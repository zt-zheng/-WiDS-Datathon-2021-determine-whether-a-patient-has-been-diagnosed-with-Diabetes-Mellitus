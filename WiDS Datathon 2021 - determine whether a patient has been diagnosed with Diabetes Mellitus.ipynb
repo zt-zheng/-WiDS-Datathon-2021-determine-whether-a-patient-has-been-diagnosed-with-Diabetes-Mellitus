{
 "cells": [
  {
   "cell_type": "code",
   "execution_count": 34,
   "metadata": {
    "executionInfo": {
     "elapsed": 1206,
     "status": "ok",
     "timestamp": 1614497682394,
     "user": {
      "displayName": "Zhitao Zheng",
      "photoUrl": "",
      "userId": "00958998387167643560"
     },
     "user_tz": 480
    },
    "id": "MqH0pJyep7oH"
   },
   "outputs": [],
   "source": [
    "#Import packages\n",
    "\n",
    "import pandas as pd\n",
    "import datetime as dt\n",
    "import statistics as stat\n",
    "pd.set_option('display.max_rows', 800)\n",
    "import seaborn as sns\n",
    "import matplotlib.pyplot as plt\n",
    "import numpy as np\n",
    "import os\n",
    "\n",
    "from sklearn.preprocessing import LabelEncoder\n",
    "from sklearn.model_selection import train_test_split\n",
    "from xgboost import XGBClassifier\n",
    "from sklearn.metrics import accuracy_score\n",
    "from sklearn.metrics import roc_auc_score\n",
    "from sklearn.metrics import roc_curve\n",
    "from sklearn.ensemble import StackingClassifier\n",
    "\n",
    "from sklearn.ensemble import RandomForestClassifier\n",
    "from sklearn import metrics\n",
    "from sklearn.metrics import confusion_matrix\n",
    "from sklearn.metrics import auc\n",
    "from sklearn.metrics import classification_report\n",
    "from sklearn.model_selection import cross_val_score\n",
    "from sklearn.model_selection import RandomizedSearchCV"
   ]
  },
  {
   "cell_type": "code",
   "execution_count": 4,
   "metadata": {
    "executionInfo": {
     "elapsed": 2937,
     "status": "ok",
     "timestamp": 1614497690732,
     "user": {
      "displayName": "Zhitao Zheng",
      "photoUrl": "",
      "userId": "00958998387167643560"
     },
     "user_tz": 480
    },
    "id": "zsSa4EiIp7oO"
   },
   "outputs": [],
   "source": [
    "#Import data\n",
    "my_dir = os.getcwd()\n",
    "\n",
    "sample_submission = pd.read_csv(os.path.join(my_dir,'SampleSubmissionWiDS2021.csv'))\n",
    "solution_template = pd.read_csv(os.path.join(my_dir,'SolutionTemplateWiDS2021.csv'))\n",
    "data_dictionary = pd.read_csv(os.path.join(my_dir,'DataDictionaryWiDS2021.csv'))\n",
    "unlabled_data = pd.read_csv(os.path.join(my_dir,'UnlabeledWiDS2021.csv'))\n",
    "training_data = pd.read_csv(os.path.join(my_dir,'TrainingWiDS2021.csv'))"
   ]
  },
  {
   "cell_type": "code",
   "execution_count": 5,
   "metadata": {
    "colab": {
     "base_uri": "https://localhost:8080/"
    },
    "executionInfo": {
     "elapsed": 250,
     "status": "ok",
     "timestamp": 1614497691634,
     "user": {
      "displayName": "Zhitao Zheng",
      "photoUrl": "",
      "userId": "00958998387167643560"
     },
     "user_tz": 480
    },
    "id": "BzzV9rm7jFot",
    "outputId": "a7dd3fc0-6dda-4be2-ff4e-093ebaa7da69"
   },
   "outputs": [
    {
     "name": "stdout",
     "output_type": "stream",
     "text": [
      "(3, 2)\n",
      "(10234, 2)\n",
      "(181, 6)\n",
      "(10234, 180)\n",
      "(130157, 181)\n",
      "0    102006\n",
      "1     28151\n",
      "Name: diabetes_mellitus, dtype: int64\n"
     ]
    }
   ],
   "source": [
    "#View data\n",
    "print(sample_submission.shape)\n",
    "print(solution_template.shape)\n",
    "print(data_dictionary.shape)\n",
    "print(unlabled_data.shape)\n",
    "print(training_data.shape)\n",
    "print(training_data['diabetes_mellitus'].value_counts())"
   ]
  },
  {
   "cell_type": "code",
   "execution_count": 6,
   "metadata": {
    "colab": {
     "base_uri": "https://localhost:8080/",
     "height": 578
    },
    "executionInfo": {
     "elapsed": 405,
     "status": "ok",
     "timestamp": 1614497697485,
     "user": {
      "displayName": "Zhitao Zheng",
      "photoUrl": "",
      "userId": "00958998387167643560"
     },
     "user_tz": 480
    },
    "id": "HY_swUlyjFou",
    "outputId": "0bfcdac2-fdfb-43ca-da44-642fbeaefd77"
   },
   "outputs": [
    {
     "data": {
      "text/html": [
       "<div>\n",
       "<style scoped>\n",
       "    .dataframe tbody tr th:only-of-type {\n",
       "        vertical-align: middle;\n",
       "    }\n",
       "\n",
       "    .dataframe tbody tr th {\n",
       "        vertical-align: top;\n",
       "    }\n",
       "\n",
       "    .dataframe thead th {\n",
       "        text-align: right;\n",
       "    }\n",
       "</style>\n",
       "<table border=\"1\" class=\"dataframe\">\n",
       "  <thead>\n",
       "    <tr style=\"text-align: right;\">\n",
       "      <th></th>\n",
       "      <th>Unnamed: 0</th>\n",
       "      <th>encounter_id</th>\n",
       "      <th>hospital_id</th>\n",
       "      <th>age</th>\n",
       "      <th>bmi</th>\n",
       "      <th>elective_surgery</th>\n",
       "      <th>ethnicity</th>\n",
       "      <th>gender</th>\n",
       "      <th>height</th>\n",
       "      <th>hospital_admit_source</th>\n",
       "      <th>...</th>\n",
       "      <th>h1_pao2fio2ratio_max</th>\n",
       "      <th>h1_pao2fio2ratio_min</th>\n",
       "      <th>aids</th>\n",
       "      <th>cirrhosis</th>\n",
       "      <th>hepatic_failure</th>\n",
       "      <th>immunosuppression</th>\n",
       "      <th>leukemia</th>\n",
       "      <th>lymphoma</th>\n",
       "      <th>solid_tumor_with_metastasis</th>\n",
       "      <th>diabetes_mellitus</th>\n",
       "    </tr>\n",
       "  </thead>\n",
       "  <tbody>\n",
       "    <tr>\n",
       "      <th>0</th>\n",
       "      <td>1</td>\n",
       "      <td>214826</td>\n",
       "      <td>118</td>\n",
       "      <td>68.0</td>\n",
       "      <td>22.732803</td>\n",
       "      <td>0</td>\n",
       "      <td>Caucasian</td>\n",
       "      <td>M</td>\n",
       "      <td>180.3</td>\n",
       "      <td>Floor</td>\n",
       "      <td>...</td>\n",
       "      <td>NaN</td>\n",
       "      <td>NaN</td>\n",
       "      <td>0</td>\n",
       "      <td>0</td>\n",
       "      <td>0</td>\n",
       "      <td>0</td>\n",
       "      <td>0</td>\n",
       "      <td>0</td>\n",
       "      <td>0</td>\n",
       "      <td>1</td>\n",
       "    </tr>\n",
       "    <tr>\n",
       "      <th>1</th>\n",
       "      <td>2</td>\n",
       "      <td>246060</td>\n",
       "      <td>81</td>\n",
       "      <td>77.0</td>\n",
       "      <td>27.421875</td>\n",
       "      <td>0</td>\n",
       "      <td>Caucasian</td>\n",
       "      <td>F</td>\n",
       "      <td>160.0</td>\n",
       "      <td>Floor</td>\n",
       "      <td>...</td>\n",
       "      <td>51.0</td>\n",
       "      <td>51.0</td>\n",
       "      <td>0</td>\n",
       "      <td>0</td>\n",
       "      <td>0</td>\n",
       "      <td>0</td>\n",
       "      <td>0</td>\n",
       "      <td>0</td>\n",
       "      <td>0</td>\n",
       "      <td>1</td>\n",
       "    </tr>\n",
       "    <tr>\n",
       "      <th>2</th>\n",
       "      <td>3</td>\n",
       "      <td>276985</td>\n",
       "      <td>118</td>\n",
       "      <td>25.0</td>\n",
       "      <td>31.952749</td>\n",
       "      <td>0</td>\n",
       "      <td>Caucasian</td>\n",
       "      <td>F</td>\n",
       "      <td>172.7</td>\n",
       "      <td>Emergency Department</td>\n",
       "      <td>...</td>\n",
       "      <td>NaN</td>\n",
       "      <td>NaN</td>\n",
       "      <td>0</td>\n",
       "      <td>0</td>\n",
       "      <td>0</td>\n",
       "      <td>0</td>\n",
       "      <td>0</td>\n",
       "      <td>0</td>\n",
       "      <td>0</td>\n",
       "      <td>0</td>\n",
       "    </tr>\n",
       "    <tr>\n",
       "      <th>3</th>\n",
       "      <td>4</td>\n",
       "      <td>262220</td>\n",
       "      <td>118</td>\n",
       "      <td>81.0</td>\n",
       "      <td>22.635548</td>\n",
       "      <td>1</td>\n",
       "      <td>Caucasian</td>\n",
       "      <td>F</td>\n",
       "      <td>165.1</td>\n",
       "      <td>Operating Room</td>\n",
       "      <td>...</td>\n",
       "      <td>337.0</td>\n",
       "      <td>337.0</td>\n",
       "      <td>0</td>\n",
       "      <td>0</td>\n",
       "      <td>0</td>\n",
       "      <td>0</td>\n",
       "      <td>0</td>\n",
       "      <td>0</td>\n",
       "      <td>0</td>\n",
       "      <td>0</td>\n",
       "    </tr>\n",
       "    <tr>\n",
       "      <th>4</th>\n",
       "      <td>5</td>\n",
       "      <td>201746</td>\n",
       "      <td>33</td>\n",
       "      <td>19.0</td>\n",
       "      <td>NaN</td>\n",
       "      <td>0</td>\n",
       "      <td>Caucasian</td>\n",
       "      <td>M</td>\n",
       "      <td>188.0</td>\n",
       "      <td>NaN</td>\n",
       "      <td>...</td>\n",
       "      <td>NaN</td>\n",
       "      <td>NaN</td>\n",
       "      <td>0</td>\n",
       "      <td>0</td>\n",
       "      <td>0</td>\n",
       "      <td>0</td>\n",
       "      <td>0</td>\n",
       "      <td>0</td>\n",
       "      <td>0</td>\n",
       "      <td>0</td>\n",
       "    </tr>\n",
       "    <tr>\n",
       "      <th>5</th>\n",
       "      <td>6</td>\n",
       "      <td>182697</td>\n",
       "      <td>83</td>\n",
       "      <td>67.0</td>\n",
       "      <td>27.555611</td>\n",
       "      <td>0</td>\n",
       "      <td>Caucasian</td>\n",
       "      <td>M</td>\n",
       "      <td>190.5</td>\n",
       "      <td>Direct Admit</td>\n",
       "      <td>...</td>\n",
       "      <td>NaN</td>\n",
       "      <td>NaN</td>\n",
       "      <td>0</td>\n",
       "      <td>0</td>\n",
       "      <td>0</td>\n",
       "      <td>0</td>\n",
       "      <td>0</td>\n",
       "      <td>0</td>\n",
       "      <td>0</td>\n",
       "      <td>1</td>\n",
       "    </tr>\n",
       "    <tr>\n",
       "      <th>6</th>\n",
       "      <td>7</td>\n",
       "      <td>195124</td>\n",
       "      <td>83</td>\n",
       "      <td>59.0</td>\n",
       "      <td>57.451002</td>\n",
       "      <td>0</td>\n",
       "      <td>Caucasian</td>\n",
       "      <td>F</td>\n",
       "      <td>165.1</td>\n",
       "      <td>Operating Room</td>\n",
       "      <td>...</td>\n",
       "      <td>370.0</td>\n",
       "      <td>370.0</td>\n",
       "      <td>0</td>\n",
       "      <td>0</td>\n",
       "      <td>0</td>\n",
       "      <td>0</td>\n",
       "      <td>0</td>\n",
       "      <td>0</td>\n",
       "      <td>0</td>\n",
       "      <td>1</td>\n",
       "    </tr>\n",
       "    <tr>\n",
       "      <th>7</th>\n",
       "      <td>8</td>\n",
       "      <td>179261</td>\n",
       "      <td>33</td>\n",
       "      <td>70.0</td>\n",
       "      <td>NaN</td>\n",
       "      <td>0</td>\n",
       "      <td>Caucasian</td>\n",
       "      <td>M</td>\n",
       "      <td>165.0</td>\n",
       "      <td>Emergency Department</td>\n",
       "      <td>...</td>\n",
       "      <td>NaN</td>\n",
       "      <td>NaN</td>\n",
       "      <td>0</td>\n",
       "      <td>0</td>\n",
       "      <td>0</td>\n",
       "      <td>1</td>\n",
       "      <td>0</td>\n",
       "      <td>0</td>\n",
       "      <td>0</td>\n",
       "      <td>0</td>\n",
       "    </tr>\n",
       "    <tr>\n",
       "      <th>8</th>\n",
       "      <td>9</td>\n",
       "      <td>271041</td>\n",
       "      <td>118</td>\n",
       "      <td>45.0</td>\n",
       "      <td>NaN</td>\n",
       "      <td>0</td>\n",
       "      <td>Caucasian</td>\n",
       "      <td>M</td>\n",
       "      <td>170.2</td>\n",
       "      <td>Other Hospital</td>\n",
       "      <td>...</td>\n",
       "      <td>92.0</td>\n",
       "      <td>92.0</td>\n",
       "      <td>0</td>\n",
       "      <td>0</td>\n",
       "      <td>0</td>\n",
       "      <td>0</td>\n",
       "      <td>0</td>\n",
       "      <td>0</td>\n",
       "      <td>0</td>\n",
       "      <td>0</td>\n",
       "    </tr>\n",
       "    <tr>\n",
       "      <th>9</th>\n",
       "      <td>10</td>\n",
       "      <td>238874</td>\n",
       "      <td>118</td>\n",
       "      <td>50.0</td>\n",
       "      <td>25.707702</td>\n",
       "      <td>0</td>\n",
       "      <td>NaN</td>\n",
       "      <td>M</td>\n",
       "      <td>175.3</td>\n",
       "      <td>Direct Admit</td>\n",
       "      <td>...</td>\n",
       "      <td>NaN</td>\n",
       "      <td>NaN</td>\n",
       "      <td>0</td>\n",
       "      <td>0</td>\n",
       "      <td>0</td>\n",
       "      <td>0</td>\n",
       "      <td>0</td>\n",
       "      <td>0</td>\n",
       "      <td>0</td>\n",
       "      <td>0</td>\n",
       "    </tr>\n",
       "  </tbody>\n",
       "</table>\n",
       "<p>10 rows × 181 columns</p>\n",
       "</div>"
      ],
      "text/plain": [
       "   Unnamed: 0  encounter_id  hospital_id   age        bmi  elective_surgery  \\\n",
       "0           1        214826          118  68.0  22.732803                 0   \n",
       "1           2        246060           81  77.0  27.421875                 0   \n",
       "2           3        276985          118  25.0  31.952749                 0   \n",
       "3           4        262220          118  81.0  22.635548                 1   \n",
       "4           5        201746           33  19.0        NaN                 0   \n",
       "5           6        182697           83  67.0  27.555611                 0   \n",
       "6           7        195124           83  59.0  57.451002                 0   \n",
       "7           8        179261           33  70.0        NaN                 0   \n",
       "8           9        271041          118  45.0        NaN                 0   \n",
       "9          10        238874          118  50.0  25.707702                 0   \n",
       "\n",
       "   ethnicity gender  height hospital_admit_source  ... h1_pao2fio2ratio_max  \\\n",
       "0  Caucasian      M   180.3                 Floor  ...                  NaN   \n",
       "1  Caucasian      F   160.0                 Floor  ...                 51.0   \n",
       "2  Caucasian      F   172.7  Emergency Department  ...                  NaN   \n",
       "3  Caucasian      F   165.1        Operating Room  ...                337.0   \n",
       "4  Caucasian      M   188.0                   NaN  ...                  NaN   \n",
       "5  Caucasian      M   190.5          Direct Admit  ...                  NaN   \n",
       "6  Caucasian      F   165.1        Operating Room  ...                370.0   \n",
       "7  Caucasian      M   165.0  Emergency Department  ...                  NaN   \n",
       "8  Caucasian      M   170.2        Other Hospital  ...                 92.0   \n",
       "9        NaN      M   175.3          Direct Admit  ...                  NaN   \n",
       "\n",
       "   h1_pao2fio2ratio_min aids cirrhosis  hepatic_failure  immunosuppression  \\\n",
       "0                   NaN    0         0                0                  0   \n",
       "1                  51.0    0         0                0                  0   \n",
       "2                   NaN    0         0                0                  0   \n",
       "3                 337.0    0         0                0                  0   \n",
       "4                   NaN    0         0                0                  0   \n",
       "5                   NaN    0         0                0                  0   \n",
       "6                 370.0    0         0                0                  0   \n",
       "7                   NaN    0         0                0                  1   \n",
       "8                  92.0    0         0                0                  0   \n",
       "9                   NaN    0         0                0                  0   \n",
       "\n",
       "   leukemia  lymphoma  solid_tumor_with_metastasis  diabetes_mellitus  \n",
       "0         0         0                            0                  1  \n",
       "1         0         0                            0                  1  \n",
       "2         0         0                            0                  0  \n",
       "3         0         0                            0                  0  \n",
       "4         0         0                            0                  0  \n",
       "5         0         0                            0                  1  \n",
       "6         0         0                            0                  1  \n",
       "7         0         0                            0                  0  \n",
       "8         0         0                            0                  0  \n",
       "9         0         0                            0                  0  \n",
       "\n",
       "[10 rows x 181 columns]"
      ]
     },
     "execution_count": 6,
     "metadata": {},
     "output_type": "execute_result"
    }
   ],
   "source": [
    "training_data.head(10)"
   ]
  },
  {
   "cell_type": "markdown",
   "metadata": {
    "id": "WFKG2fwWp7oT"
   },
   "source": [
    "# Data Cleaning"
   ]
  },
  {
   "cell_type": "code",
   "execution_count": 7,
   "metadata": {
    "executionInfo": {
     "elapsed": 343,
     "status": "ok",
     "timestamp": 1614497699880,
     "user": {
      "displayName": "Zhitao Zheng",
      "photoUrl": "",
      "userId": "00958998387167643560"
     },
     "user_tz": 480
    },
    "id": "hEUl_CImjFov"
   },
   "outputs": [],
   "source": [
    "# Drop the column with no useful information\n",
    "training_data.drop('Unnamed: 0', axis = 1, inplace = True)\n",
    "unlabled_data.drop('Unnamed: 0', axis = 1, inplace = True)"
   ]
  },
  {
   "cell_type": "markdown",
   "metadata": {
    "id": "8utd7-lOjFov"
   },
   "source": [
    "### Missing values"
   ]
  },
  {
   "cell_type": "code",
   "execution_count": 8,
   "metadata": {
    "colab": {
     "base_uri": "https://localhost:8080/"
    },
    "executionInfo": {
     "elapsed": 302,
     "status": "ok",
     "timestamp": 1614497701655,
     "user": {
      "displayName": "Zhitao Zheng",
      "photoUrl": "",
      "userId": "00958998387167643560"
     },
     "user_tz": 480
    },
    "id": "rwyvc8PEp7oP",
    "outputId": "3446ce6d-d926-4d48-e1f9-236b05a11bd2",
    "scrolled": true
   },
   "outputs": [
    {
     "name": "stdout",
     "output_type": "stream",
     "text": [
      "<class 'pandas.core.frame.DataFrame'>\n",
      "RangeIndex: 130157 entries, 0 to 130156\n",
      "Columns: 180 entries, encounter_id to diabetes_mellitus\n",
      "dtypes: float64(157), int64(17), object(6)\n",
      "memory usage: 178.7+ MB\n"
     ]
    }
   ],
   "source": [
    "training_data.info()"
   ]
  },
  {
   "cell_type": "code",
   "execution_count": 9,
   "metadata": {
    "executionInfo": {
     "elapsed": 278,
     "status": "ok",
     "timestamp": 1614497702727,
     "user": {
      "displayName": "Zhitao Zheng",
      "photoUrl": "",
      "userId": "00958998387167643560"
     },
     "user_tz": 480
    },
    "id": "kcSlfrKcp7oQ"
   },
   "outputs": [],
   "source": [
    "data_object=training_data.loc[:, training_data.dtypes == object]\n",
    "data_object_un=unlabled_data.loc[:, unlabled_data.dtypes == object]"
   ]
  },
  {
   "cell_type": "code",
   "execution_count": 10,
   "metadata": {
    "executionInfo": {
     "elapsed": 265,
     "status": "ok",
     "timestamp": 1614497709035,
     "user": {
      "displayName": "Zhitao Zheng",
      "photoUrl": "",
      "userId": "00958998387167643560"
     },
     "user_tz": 480
    },
    "id": "U0WXjTwSp7oR",
    "scrolled": true
   },
   "outputs": [
    {
     "data": {
      "text/plain": [
       "['age',\n",
       " 'bmi',\n",
       " 'ethnicity',\n",
       " 'gender',\n",
       " 'height',\n",
       " 'hospital_admit_source',\n",
       " 'icu_admit_source',\n",
       " 'weight',\n",
       " 'albumin_apache',\n",
       " 'apache_2_diagnosis',\n",
       " 'apache_3j_diagnosis',\n",
       " 'bilirubin_apache',\n",
       " 'bun_apache',\n",
       " 'creatinine_apache',\n",
       " 'fio2_apache',\n",
       " 'gcs_eyes_apache',\n",
       " 'gcs_motor_apache',\n",
       " 'gcs_unable_apache',\n",
       " 'gcs_verbal_apache',\n",
       " 'glucose_apache',\n",
       " 'heart_rate_apache',\n",
       " 'hematocrit_apache',\n",
       " 'map_apache',\n",
       " 'paco2_apache',\n",
       " 'paco2_for_ph_apache',\n",
       " 'pao2_apache',\n",
       " 'ph_apache',\n",
       " 'resprate_apache',\n",
       " 'sodium_apache',\n",
       " 'temp_apache',\n",
       " 'urineoutput_apache',\n",
       " 'wbc_apache',\n",
       " 'd1_diasbp_invasive_max',\n",
       " 'd1_diasbp_invasive_min',\n",
       " 'd1_diasbp_max',\n",
       " 'd1_diasbp_min',\n",
       " 'd1_diasbp_noninvasive_max',\n",
       " 'd1_diasbp_noninvasive_min',\n",
       " 'd1_heartrate_max',\n",
       " 'd1_heartrate_min',\n",
       " 'd1_mbp_invasive_max',\n",
       " 'd1_mbp_invasive_min',\n",
       " 'd1_mbp_max',\n",
       " 'd1_mbp_min',\n",
       " 'd1_mbp_noninvasive_max',\n",
       " 'd1_mbp_noninvasive_min',\n",
       " 'd1_resprate_max',\n",
       " 'd1_resprate_min',\n",
       " 'd1_spo2_max',\n",
       " 'd1_spo2_min',\n",
       " 'd1_sysbp_invasive_max',\n",
       " 'd1_sysbp_invasive_min',\n",
       " 'd1_sysbp_max',\n",
       " 'd1_sysbp_min',\n",
       " 'd1_sysbp_noninvasive_max',\n",
       " 'd1_sysbp_noninvasive_min',\n",
       " 'd1_temp_max',\n",
       " 'd1_temp_min',\n",
       " 'h1_diasbp_invasive_max',\n",
       " 'h1_diasbp_invasive_min',\n",
       " 'h1_diasbp_max',\n",
       " 'h1_diasbp_min',\n",
       " 'h1_diasbp_noninvasive_max',\n",
       " 'h1_diasbp_noninvasive_min',\n",
       " 'h1_heartrate_max',\n",
       " 'h1_heartrate_min',\n",
       " 'h1_mbp_invasive_max',\n",
       " 'h1_mbp_invasive_min',\n",
       " 'h1_mbp_max',\n",
       " 'h1_mbp_min',\n",
       " 'h1_mbp_noninvasive_max',\n",
       " 'h1_mbp_noninvasive_min',\n",
       " 'h1_resprate_max',\n",
       " 'h1_resprate_min',\n",
       " 'h1_spo2_max',\n",
       " 'h1_spo2_min',\n",
       " 'h1_sysbp_invasive_max',\n",
       " 'h1_sysbp_invasive_min',\n",
       " 'h1_sysbp_max',\n",
       " 'h1_sysbp_min',\n",
       " 'h1_sysbp_noninvasive_max',\n",
       " 'h1_sysbp_noninvasive_min',\n",
       " 'h1_temp_max',\n",
       " 'h1_temp_min',\n",
       " 'd1_albumin_max',\n",
       " 'd1_albumin_min',\n",
       " 'd1_bilirubin_max',\n",
       " 'd1_bilirubin_min',\n",
       " 'd1_bun_max',\n",
       " 'd1_bun_min',\n",
       " 'd1_calcium_max',\n",
       " 'd1_calcium_min',\n",
       " 'd1_creatinine_max',\n",
       " 'd1_creatinine_min',\n",
       " 'd1_glucose_max',\n",
       " 'd1_glucose_min',\n",
       " 'd1_hco3_max',\n",
       " 'd1_hco3_min',\n",
       " 'd1_hemaglobin_max',\n",
       " 'd1_hemaglobin_min',\n",
       " 'd1_hematocrit_max',\n",
       " 'd1_hematocrit_min',\n",
       " 'd1_inr_max',\n",
       " 'd1_inr_min',\n",
       " 'd1_lactate_max',\n",
       " 'd1_lactate_min',\n",
       " 'd1_platelets_max',\n",
       " 'd1_platelets_min',\n",
       " 'd1_potassium_max',\n",
       " 'd1_potassium_min',\n",
       " 'd1_sodium_max',\n",
       " 'd1_sodium_min',\n",
       " 'd1_wbc_max',\n",
       " 'd1_wbc_min',\n",
       " 'h1_albumin_max',\n",
       " 'h1_albumin_min',\n",
       " 'h1_bilirubin_max',\n",
       " 'h1_bilirubin_min',\n",
       " 'h1_bun_max',\n",
       " 'h1_bun_min',\n",
       " 'h1_calcium_max',\n",
       " 'h1_calcium_min',\n",
       " 'h1_creatinine_max',\n",
       " 'h1_creatinine_min',\n",
       " 'h1_glucose_max',\n",
       " 'h1_glucose_min',\n",
       " 'h1_hco3_max',\n",
       " 'h1_hco3_min',\n",
       " 'h1_hemaglobin_max',\n",
       " 'h1_hemaglobin_min',\n",
       " 'h1_hematocrit_max',\n",
       " 'h1_hematocrit_min',\n",
       " 'h1_inr_max',\n",
       " 'h1_inr_min',\n",
       " 'h1_lactate_max',\n",
       " 'h1_lactate_min',\n",
       " 'h1_platelets_max',\n",
       " 'h1_platelets_min',\n",
       " 'h1_potassium_max',\n",
       " 'h1_potassium_min',\n",
       " 'h1_sodium_max',\n",
       " 'h1_sodium_min',\n",
       " 'h1_wbc_max',\n",
       " 'h1_wbc_min',\n",
       " 'd1_arterial_pco2_max',\n",
       " 'd1_arterial_pco2_min',\n",
       " 'd1_arterial_ph_max',\n",
       " 'd1_arterial_ph_min',\n",
       " 'd1_arterial_po2_max',\n",
       " 'd1_arterial_po2_min',\n",
       " 'd1_pao2fio2ratio_max',\n",
       " 'd1_pao2fio2ratio_min',\n",
       " 'h1_arterial_pco2_max',\n",
       " 'h1_arterial_pco2_min',\n",
       " 'h1_arterial_ph_max',\n",
       " 'h1_arterial_ph_min',\n",
       " 'h1_arterial_po2_max',\n",
       " 'h1_arterial_po2_min',\n",
       " 'h1_pao2fio2ratio_max',\n",
       " 'h1_pao2fio2ratio_min']"
      ]
     },
     "execution_count": 10,
     "metadata": {},
     "output_type": "execute_result"
    }
   ],
   "source": [
    "# Collect the list of all columns with missing values\n",
    "column_na = training_data.columns[training_data.isna().any()].tolist()\n",
    "column_na_un = unlabled_data.columns[unlabled_data.isna().any()].tolist()\n",
    "column_na"
   ]
  },
  {
   "cell_type": "code",
   "execution_count": 11,
   "metadata": {
    "colab": {
     "base_uri": "https://localhost:8080/"
    },
    "executionInfo": {
     "elapsed": 282,
     "status": "ok",
     "timestamp": 1614497712952,
     "user": {
      "displayName": "Zhitao Zheng",
      "photoUrl": "",
      "userId": "00958998387167643560"
     },
     "user_tz": 480
    },
    "id": "gNV-Dq-8p7oS",
    "outputId": "a2b1b0e5-581a-48cb-9405-4200ae2b68be"
   },
   "outputs": [
    {
     "data": {
      "text/plain": [
       "array(['M', 'F', nan], dtype=object)"
      ]
     },
     "execution_count": 11,
     "metadata": {},
     "output_type": "execute_result"
    }
   ],
   "source": [
    "# Preview some categorical clumns\n",
    "data_object['gender'].unique()"
   ]
  },
  {
   "cell_type": "code",
   "execution_count": 12,
   "metadata": {
    "colab": {
     "base_uri": "https://localhost:8080/"
    },
    "executionInfo": {
     "elapsed": 289,
     "status": "ok",
     "timestamp": 1614497713699,
     "user": {
      "displayName": "Zhitao Zheng",
      "photoUrl": "",
      "userId": "00958998387167643560"
     },
     "user_tz": 480
    },
    "id": "iDNdbaUVp7oS",
    "outputId": "717143a0-5cd1-4f0f-8809-0bc4a9b45831"
   },
   "outputs": [
    {
     "data": {
      "text/plain": [
       "array(['Caucasian', nan, 'Hispanic', 'African American', 'Asian',\n",
       "       'Native American', 'Other/Unknown'], dtype=object)"
      ]
     },
     "execution_count": 12,
     "metadata": {},
     "output_type": "execute_result"
    }
   ],
   "source": [
    "data_object['ethnicity'].unique()"
   ]
  },
  {
   "cell_type": "code",
   "execution_count": 13,
   "metadata": {
    "colab": {
     "base_uri": "https://localhost:8080/"
    },
    "executionInfo": {
     "elapsed": 302,
     "status": "ok",
     "timestamp": 1614497714991,
     "user": {
      "displayName": "Zhitao Zheng",
      "photoUrl": "",
      "userId": "00958998387167643560"
     },
     "user_tz": 480
    },
    "id": "6AiN3k_np7oS",
    "outputId": "ad194514-93ce-4941-c4d8-a59dc766c5ab"
   },
   "outputs": [
    {
     "data": {
      "text/plain": [
       "array(['Floor', 'Accident & Emergency', 'Operating Room / Recovery',\n",
       "       'Other Hospital', 'Other ICU', nan], dtype=object)"
      ]
     },
     "execution_count": 13,
     "metadata": {},
     "output_type": "execute_result"
    }
   ],
   "source": [
    "data_object['icu_admit_source'].unique()"
   ]
  },
  {
   "cell_type": "code",
   "execution_count": 14,
   "metadata": {
    "colab": {
     "base_uri": "https://localhost:8080/"
    },
    "executionInfo": {
     "elapsed": 320,
     "status": "ok",
     "timestamp": 1614497715839,
     "user": {
      "displayName": "Zhitao Zheng",
      "photoUrl": "",
      "userId": "00958998387167643560"
     },
     "user_tz": 480
    },
    "id": "R7YSinDLp7oT",
    "outputId": "4d8048c8-19a3-4bbd-8153-f93f068a8aee"
   },
   "outputs": [
    {
     "data": {
      "text/plain": [
       "array(['Floor', 'Emergency Department', 'Operating Room', nan,\n",
       "       'Direct Admit', 'Other Hospital', 'Other ICU', 'ICU to SDU',\n",
       "       'Recovery Room', 'Chest Pain Center', 'Step-Down Unit (SDU)',\n",
       "       'Acute Care/Floor', 'PACU', 'Observation', 'ICU', 'Other'],\n",
       "      dtype=object)"
      ]
     },
     "execution_count": 14,
     "metadata": {},
     "output_type": "execute_result"
    }
   ],
   "source": [
    "data_object['hospital_admit_source'].unique()"
   ]
  },
  {
   "cell_type": "code",
   "execution_count": 15,
   "metadata": {
    "executionInfo": {
     "elapsed": 394,
     "status": "ok",
     "timestamp": 1614497716986,
     "user": {
      "displayName": "Zhitao Zheng",
      "photoUrl": "",
      "userId": "00958998387167643560"
     },
     "user_tz": 480
    },
    "id": "l-g0DegnjFox"
   },
   "outputs": [],
   "source": [
    "# Calculate the percentage of missing value in each column\n",
    "per_na_l = []\n",
    "for i in column_na:\n",
    "    col_name = str(i)\n",
    "    per_na = training_data[i].isnull().sum() * 100 / len(training_data) # get the percentage of NAs in each column\n",
    "    per_na_l.append(per_na)\n",
    "na_assess = pd.DataFrame(list(zip(column_na, per_na_l)), \\\n",
    "                         columns =['Variable Names', '% of NAs']).sort_values('% of NAs', ascending = False)\n"
   ]
  },
  {
   "cell_type": "code",
   "execution_count": 16,
   "metadata": {
    "colab": {
     "base_uri": "https://localhost:8080/",
     "height": 1000
    },
    "executionInfo": {
     "elapsed": 268,
     "status": "ok",
     "timestamp": 1614497719731,
     "user": {
      "displayName": "Zhitao Zheng",
      "photoUrl": "",
      "userId": "00958998387167643560"
     },
     "user_tz": 480
    },
    "id": "aNPRY0npjFox",
    "outputId": "cf2e7e15-0fde-4aee-d413-3ed9f700d426"
   },
   "outputs": [
    {
     "data": {
      "text/html": [
       "<div>\n",
       "<style scoped>\n",
       "    .dataframe tbody tr th:only-of-type {\n",
       "        vertical-align: middle;\n",
       "    }\n",
       "\n",
       "    .dataframe tbody tr th {\n",
       "        vertical-align: top;\n",
       "    }\n",
       "\n",
       "    .dataframe thead th {\n",
       "        text-align: right;\n",
       "    }\n",
       "</style>\n",
       "<table border=\"1\" class=\"dataframe\">\n",
       "  <thead>\n",
       "    <tr style=\"text-align: right;\">\n",
       "      <th></th>\n",
       "      <th>Variable Names</th>\n",
       "      <th>% of NAs</th>\n",
       "    </tr>\n",
       "  </thead>\n",
       "  <tbody>\n",
       "    <tr>\n",
       "      <th>117</th>\n",
       "      <td>h1_bilirubin_min</td>\n",
       "      <td>92.089553</td>\n",
       "    </tr>\n",
       "    <tr>\n",
       "      <th>116</th>\n",
       "      <td>h1_bilirubin_max</td>\n",
       "      <td>92.089553</td>\n",
       "    </tr>\n",
       "    <tr>\n",
       "      <th>114</th>\n",
       "      <td>h1_albumin_max</td>\n",
       "      <td>91.431886</td>\n",
       "    </tr>\n",
       "    <tr>\n",
       "      <th>115</th>\n",
       "      <td>h1_albumin_min</td>\n",
       "      <td>91.431886</td>\n",
       "    </tr>\n",
       "    <tr>\n",
       "      <th>134</th>\n",
       "      <td>h1_lactate_max</td>\n",
       "      <td>91.018539</td>\n",
       "    </tr>\n",
       "    <tr>\n",
       "      <th>135</th>\n",
       "      <td>h1_lactate_min</td>\n",
       "      <td>91.018539</td>\n",
       "    </tr>\n",
       "    <tr>\n",
       "      <th>159</th>\n",
       "      <td>h1_pao2fio2ratio_min</td>\n",
       "      <td>87.123243</td>\n",
       "    </tr>\n",
       "    <tr>\n",
       "      <th>158</th>\n",
       "      <td>h1_pao2fio2ratio_max</td>\n",
       "      <td>87.123243</td>\n",
       "    </tr>\n",
       "    <tr>\n",
       "      <th>154</th>\n",
       "      <td>h1_arterial_ph_max</td>\n",
       "      <td>82.860699</td>\n",
       "    </tr>\n",
       "    <tr>\n",
       "      <th>155</th>\n",
       "      <td>h1_arterial_ph_min</td>\n",
       "      <td>82.860699</td>\n",
       "    </tr>\n",
       "    <tr>\n",
       "      <th>153</th>\n",
       "      <td>h1_arterial_pco2_min</td>\n",
       "      <td>82.720100</td>\n",
       "    </tr>\n",
       "    <tr>\n",
       "      <th>152</th>\n",
       "      <td>h1_arterial_pco2_max</td>\n",
       "      <td>82.720100</td>\n",
       "    </tr>\n",
       "    <tr>\n",
       "      <th>156</th>\n",
       "      <td>h1_arterial_po2_max</td>\n",
       "      <td>82.550305</td>\n",
       "    </tr>\n",
       "    <tr>\n",
       "      <th>157</th>\n",
       "      <td>h1_arterial_po2_min</td>\n",
       "      <td>82.550305</td>\n",
       "    </tr>\n",
       "    <tr>\n",
       "      <th>127</th>\n",
       "      <td>h1_hco3_min</td>\n",
       "      <td>81.743587</td>\n",
       "    </tr>\n",
       "    <tr>\n",
       "      <th>126</th>\n",
       "      <td>h1_hco3_max</td>\n",
       "      <td>81.743587</td>\n",
       "    </tr>\n",
       "    <tr>\n",
       "      <th>142</th>\n",
       "      <td>h1_wbc_max</td>\n",
       "      <td>81.429351</td>\n",
       "    </tr>\n",
       "    <tr>\n",
       "      <th>143</th>\n",
       "      <td>h1_wbc_min</td>\n",
       "      <td>81.429351</td>\n",
       "    </tr>\n",
       "    <tr>\n",
       "      <th>121</th>\n",
       "      <td>h1_calcium_min</td>\n",
       "      <td>81.379411</td>\n",
       "    </tr>\n",
       "    <tr>\n",
       "      <th>120</th>\n",
       "      <td>h1_calcium_max</td>\n",
       "      <td>81.379411</td>\n",
       "    </tr>\n",
       "    <tr>\n",
       "      <th>137</th>\n",
       "      <td>h1_platelets_min</td>\n",
       "      <td>81.231897</td>\n",
       "    </tr>\n",
       "    <tr>\n",
       "      <th>136</th>\n",
       "      <td>h1_platelets_max</td>\n",
       "      <td>81.231897</td>\n",
       "    </tr>\n",
       "    <tr>\n",
       "      <th>118</th>\n",
       "      <td>h1_bun_max</td>\n",
       "      <td>80.664121</td>\n",
       "    </tr>\n",
       "    <tr>\n",
       "      <th>119</th>\n",
       "      <td>h1_bun_min</td>\n",
       "      <td>80.664121</td>\n",
       "    </tr>\n",
       "    <tr>\n",
       "      <th>59</th>\n",
       "      <td>h1_diasbp_invasive_min</td>\n",
       "      <td>80.540424</td>\n",
       "    </tr>\n",
       "    <tr>\n",
       "      <th>58</th>\n",
       "      <td>h1_diasbp_invasive_max</td>\n",
       "      <td>80.540424</td>\n",
       "    </tr>\n",
       "    <tr>\n",
       "      <th>76</th>\n",
       "      <td>h1_sysbp_invasive_max</td>\n",
       "      <td>80.523522</td>\n",
       "    </tr>\n",
       "    <tr>\n",
       "      <th>77</th>\n",
       "      <td>h1_sysbp_invasive_min</td>\n",
       "      <td>80.523522</td>\n",
       "    </tr>\n",
       "    <tr>\n",
       "      <th>122</th>\n",
       "      <td>h1_creatinine_max</td>\n",
       "      <td>80.505851</td>\n",
       "    </tr>\n",
       "    <tr>\n",
       "      <th>123</th>\n",
       "      <td>h1_creatinine_min</td>\n",
       "      <td>80.505851</td>\n",
       "    </tr>\n",
       "    <tr>\n",
       "      <th>66</th>\n",
       "      <td>h1_mbp_invasive_max</td>\n",
       "      <td>80.492021</td>\n",
       "    </tr>\n",
       "    <tr>\n",
       "      <th>67</th>\n",
       "      <td>h1_mbp_invasive_min</td>\n",
       "      <td>80.492021</td>\n",
       "    </tr>\n",
       "    <tr>\n",
       "      <th>131</th>\n",
       "      <td>h1_hematocrit_min</td>\n",
       "      <td>79.101393</td>\n",
       "    </tr>\n",
       "    <tr>\n",
       "      <th>130</th>\n",
       "      <td>h1_hematocrit_max</td>\n",
       "      <td>79.101393</td>\n",
       "    </tr>\n",
       "    <tr>\n",
       "      <th>129</th>\n",
       "      <td>h1_hemaglobin_min</td>\n",
       "      <td>78.973855</td>\n",
       "    </tr>\n",
       "    <tr>\n",
       "      <th>128</th>\n",
       "      <td>h1_hemaglobin_max</td>\n",
       "      <td>78.973855</td>\n",
       "    </tr>\n",
       "    <tr>\n",
       "      <th>141</th>\n",
       "      <td>h1_sodium_min</td>\n",
       "      <td>78.198637</td>\n",
       "    </tr>\n",
       "    <tr>\n",
       "      <th>140</th>\n",
       "      <td>h1_sodium_max</td>\n",
       "      <td>78.198637</td>\n",
       "    </tr>\n",
       "    <tr>\n",
       "      <th>139</th>\n",
       "      <td>h1_potassium_min</td>\n",
       "      <td>77.461066</td>\n",
       "    </tr>\n",
       "    <tr>\n",
       "      <th>138</th>\n",
       "      <td>h1_potassium_max</td>\n",
       "      <td>77.461066</td>\n",
       "    </tr>\n",
       "    <tr>\n",
       "      <th>14</th>\n",
       "      <td>fio2_apache</td>\n",
       "      <td>76.615165</td>\n",
       "    </tr>\n",
       "    <tr>\n",
       "      <th>26</th>\n",
       "      <td>ph_apache</td>\n",
       "      <td>76.615165</td>\n",
       "    </tr>\n",
       "    <tr>\n",
       "      <th>23</th>\n",
       "      <td>paco2_apache</td>\n",
       "      <td>76.615165</td>\n",
       "    </tr>\n",
       "    <tr>\n",
       "      <th>24</th>\n",
       "      <td>paco2_for_ph_apache</td>\n",
       "      <td>76.615165</td>\n",
       "    </tr>\n",
       "    <tr>\n",
       "      <th>25</th>\n",
       "      <td>pao2_apache</td>\n",
       "      <td>76.615165</td>\n",
       "    </tr>\n",
       "    <tr>\n",
       "      <th>104</th>\n",
       "      <td>d1_lactate_max</td>\n",
       "      <td>73.375231</td>\n",
       "    </tr>\n",
       "    <tr>\n",
       "      <th>105</th>\n",
       "      <td>d1_lactate_min</td>\n",
       "      <td>73.375231</td>\n",
       "    </tr>\n",
       "    <tr>\n",
       "      <th>32</th>\n",
       "      <td>d1_diasbp_invasive_max</td>\n",
       "      <td>73.041020</td>\n",
       "    </tr>\n",
       "    <tr>\n",
       "      <th>33</th>\n",
       "      <td>d1_diasbp_invasive_min</td>\n",
       "      <td>73.041020</td>\n",
       "    </tr>\n",
       "    <tr>\n",
       "      <th>50</th>\n",
       "      <td>d1_sysbp_invasive_max</td>\n",
       "      <td>73.017971</td>\n",
       "    </tr>\n",
       "    <tr>\n",
       "      <th>51</th>\n",
       "      <td>d1_sysbp_invasive_min</td>\n",
       "      <td>73.017971</td>\n",
       "    </tr>\n",
       "    <tr>\n",
       "      <th>41</th>\n",
       "      <td>d1_mbp_invasive_min</td>\n",
       "      <td>72.887359</td>\n",
       "    </tr>\n",
       "    <tr>\n",
       "      <th>40</th>\n",
       "      <td>d1_mbp_invasive_max</td>\n",
       "      <td>72.887359</td>\n",
       "    </tr>\n",
       "    <tr>\n",
       "      <th>150</th>\n",
       "      <td>d1_pao2fio2ratio_max</td>\n",
       "      <td>71.712624</td>\n",
       "    </tr>\n",
       "    <tr>\n",
       "      <th>151</th>\n",
       "      <td>d1_pao2fio2ratio_min</td>\n",
       "      <td>71.712624</td>\n",
       "    </tr>\n",
       "    <tr>\n",
       "      <th>147</th>\n",
       "      <td>d1_arterial_ph_min</td>\n",
       "      <td>65.157464</td>\n",
       "    </tr>\n",
       "    <tr>\n",
       "      <th>146</th>\n",
       "      <td>d1_arterial_ph_max</td>\n",
       "      <td>65.157464</td>\n",
       "    </tr>\n",
       "    <tr>\n",
       "      <th>144</th>\n",
       "      <td>d1_arterial_pco2_max</td>\n",
       "      <td>64.891631</td>\n",
       "    </tr>\n",
       "    <tr>\n",
       "      <th>145</th>\n",
       "      <td>d1_arterial_pco2_min</td>\n",
       "      <td>64.891631</td>\n",
       "    </tr>\n",
       "    <tr>\n",
       "      <th>148</th>\n",
       "      <td>d1_arterial_po2_max</td>\n",
       "      <td>64.545126</td>\n",
       "    </tr>\n",
       "    <tr>\n",
       "      <th>149</th>\n",
       "      <td>d1_arterial_po2_min</td>\n",
       "      <td>64.545126</td>\n",
       "    </tr>\n",
       "    <tr>\n",
       "      <th>11</th>\n",
       "      <td>bilirubin_apache</td>\n",
       "      <td>63.431087</td>\n",
       "    </tr>\n",
       "    <tr>\n",
       "      <th>103</th>\n",
       "      <td>d1_inr_min</td>\n",
       "      <td>62.396183</td>\n",
       "    </tr>\n",
       "    <tr>\n",
       "      <th>102</th>\n",
       "      <td>d1_inr_max</td>\n",
       "      <td>62.396183</td>\n",
       "    </tr>\n",
       "    <tr>\n",
       "      <th>132</th>\n",
       "      <td>h1_inr_max</td>\n",
       "      <td>62.396183</td>\n",
       "    </tr>\n",
       "    <tr>\n",
       "      <th>133</th>\n",
       "      <td>h1_inr_min</td>\n",
       "      <td>62.396183</td>\n",
       "    </tr>\n",
       "    <tr>\n",
       "      <th>8</th>\n",
       "      <td>albumin_apache</td>\n",
       "      <td>60.052859</td>\n",
       "    </tr>\n",
       "    <tr>\n",
       "      <th>86</th>\n",
       "      <td>d1_bilirubin_max</td>\n",
       "      <td>58.955723</td>\n",
       "    </tr>\n",
       "    <tr>\n",
       "      <th>87</th>\n",
       "      <td>d1_bilirubin_min</td>\n",
       "      <td>58.955723</td>\n",
       "    </tr>\n",
       "    <tr>\n",
       "      <th>125</th>\n",
       "      <td>h1_glucose_min</td>\n",
       "      <td>57.678803</td>\n",
       "    </tr>\n",
       "    <tr>\n",
       "      <th>124</th>\n",
       "      <td>h1_glucose_max</td>\n",
       "      <td>57.678803</td>\n",
       "    </tr>\n",
       "    <tr>\n",
       "      <th>85</th>\n",
       "      <td>d1_albumin_min</td>\n",
       "      <td>54.861437</td>\n",
       "    </tr>\n",
       "    <tr>\n",
       "      <th>84</th>\n",
       "      <td>d1_albumin_max</td>\n",
       "      <td>54.861437</td>\n",
       "    </tr>\n",
       "    <tr>\n",
       "      <th>30</th>\n",
       "      <td>urineoutput_apache</td>\n",
       "      <td>48.531389</td>\n",
       "    </tr>\n",
       "    <tr>\n",
       "      <th>5</th>\n",
       "      <td>hospital_admit_source</td>\n",
       "      <td>25.506120</td>\n",
       "    </tr>\n",
       "    <tr>\n",
       "      <th>82</th>\n",
       "      <td>h1_temp_max</td>\n",
       "      <td>22.820901</td>\n",
       "    </tr>\n",
       "    <tr>\n",
       "      <th>83</th>\n",
       "      <td>h1_temp_min</td>\n",
       "      <td>22.820901</td>\n",
       "    </tr>\n",
       "    <tr>\n",
       "      <th>31</th>\n",
       "      <td>wbc_apache</td>\n",
       "      <td>22.645728</td>\n",
       "    </tr>\n",
       "    <tr>\n",
       "      <th>21</th>\n",
       "      <td>hematocrit_apache</td>\n",
       "      <td>20.558249</td>\n",
       "    </tr>\n",
       "    <tr>\n",
       "      <th>12</th>\n",
       "      <td>bun_apache</td>\n",
       "      <td>19.523345</td>\n",
       "    </tr>\n",
       "    <tr>\n",
       "      <th>13</th>\n",
       "      <td>creatinine_apache</td>\n",
       "      <td>19.116913</td>\n",
       "    </tr>\n",
       "    <tr>\n",
       "      <th>28</th>\n",
       "      <td>sodium_apache</td>\n",
       "      <td>18.838019</td>\n",
       "    </tr>\n",
       "    <tr>\n",
       "      <th>96</th>\n",
       "      <td>d1_hco3_max</td>\n",
       "      <td>15.402168</td>\n",
       "    </tr>\n",
       "    <tr>\n",
       "      <th>97</th>\n",
       "      <td>d1_hco3_min</td>\n",
       "      <td>15.402168</td>\n",
       "    </tr>\n",
       "    <tr>\n",
       "      <th>106</th>\n",
       "      <td>d1_platelets_max</td>\n",
       "      <td>14.257397</td>\n",
       "    </tr>\n",
       "    <tr>\n",
       "      <th>107</th>\n",
       "      <td>d1_platelets_min</td>\n",
       "      <td>14.257397</td>\n",
       "    </tr>\n",
       "    <tr>\n",
       "      <th>113</th>\n",
       "      <td>d1_wbc_min</td>\n",
       "      <td>13.390751</td>\n",
       "    </tr>\n",
       "    <tr>\n",
       "      <th>112</th>\n",
       "      <td>d1_wbc_max</td>\n",
       "      <td>13.390751</td>\n",
       "    </tr>\n",
       "    <tr>\n",
       "      <th>90</th>\n",
       "      <td>d1_calcium_max</td>\n",
       "      <td>12.824512</td>\n",
       "    </tr>\n",
       "    <tr>\n",
       "      <th>91</th>\n",
       "      <td>d1_calcium_min</td>\n",
       "      <td>12.824512</td>\n",
       "    </tr>\n",
       "    <tr>\n",
       "      <th>98</th>\n",
       "      <td>d1_hemaglobin_max</td>\n",
       "      <td>12.471093</td>\n",
       "    </tr>\n",
       "    <tr>\n",
       "      <th>99</th>\n",
       "      <td>d1_hemaglobin_min</td>\n",
       "      <td>12.471093</td>\n",
       "    </tr>\n",
       "    <tr>\n",
       "      <th>101</th>\n",
       "      <td>d1_hematocrit_min</td>\n",
       "      <td>11.976306</td>\n",
       "    </tr>\n",
       "    <tr>\n",
       "      <th>100</th>\n",
       "      <td>d1_hematocrit_max</td>\n",
       "      <td>11.976306</td>\n",
       "    </tr>\n",
       "    <tr>\n",
       "      <th>19</th>\n",
       "      <td>glucose_apache</td>\n",
       "      <td>11.290979</td>\n",
       "    </tr>\n",
       "    <tr>\n",
       "      <th>88</th>\n",
       "      <td>d1_bun_max</td>\n",
       "      <td>10.551872</td>\n",
       "    </tr>\n",
       "    <tr>\n",
       "      <th>89</th>\n",
       "      <td>d1_bun_min</td>\n",
       "      <td>10.551872</td>\n",
       "    </tr>\n",
       "    <tr>\n",
       "      <th>71</th>\n",
       "      <td>h1_mbp_noninvasive_min</td>\n",
       "      <td>10.216124</td>\n",
       "    </tr>\n",
       "    <tr>\n",
       "      <th>70</th>\n",
       "      <td>h1_mbp_noninvasive_max</td>\n",
       "      <td>10.216124</td>\n",
       "    </tr>\n",
       "    <tr>\n",
       "      <th>93</th>\n",
       "      <td>d1_creatinine_min</td>\n",
       "      <td>10.197684</td>\n",
       "    </tr>\n",
       "    <tr>\n",
       "      <th>92</th>\n",
       "      <td>d1_creatinine_max</td>\n",
       "      <td>10.197684</td>\n",
       "    </tr>\n",
       "    <tr>\n",
       "      <th>111</th>\n",
       "      <td>d1_sodium_min</td>\n",
       "      <td>10.195379</td>\n",
       "    </tr>\n",
       "    <tr>\n",
       "      <th>110</th>\n",
       "      <td>d1_sodium_max</td>\n",
       "      <td>10.195379</td>\n",
       "    </tr>\n",
       "    <tr>\n",
       "      <th>108</th>\n",
       "      <td>d1_potassium_max</td>\n",
       "      <td>9.639128</td>\n",
       "    </tr>\n",
       "    <tr>\n",
       "      <th>109</th>\n",
       "      <td>d1_potassium_min</td>\n",
       "      <td>9.639128</td>\n",
       "    </tr>\n",
       "    <tr>\n",
       "      <th>63</th>\n",
       "      <td>h1_diasbp_noninvasive_min</td>\n",
       "      <td>8.711787</td>\n",
       "    </tr>\n",
       "    <tr>\n",
       "      <th>62</th>\n",
       "      <td>h1_diasbp_noninvasive_max</td>\n",
       "      <td>8.711787</td>\n",
       "    </tr>\n",
       "    <tr>\n",
       "      <th>80</th>\n",
       "      <td>h1_sysbp_noninvasive_max</td>\n",
       "      <td>8.704872</td>\n",
       "    </tr>\n",
       "    <tr>\n",
       "      <th>81</th>\n",
       "      <td>h1_sysbp_noninvasive_min</td>\n",
       "      <td>8.704872</td>\n",
       "    </tr>\n",
       "    <tr>\n",
       "      <th>95</th>\n",
       "      <td>d1_glucose_min</td>\n",
       "      <td>6.333121</td>\n",
       "    </tr>\n",
       "    <tr>\n",
       "      <th>94</th>\n",
       "      <td>d1_glucose_max</td>\n",
       "      <td>6.333121</td>\n",
       "    </tr>\n",
       "    <tr>\n",
       "      <th>29</th>\n",
       "      <td>temp_apache</td>\n",
       "      <td>5.079250</td>\n",
       "    </tr>\n",
       "    <tr>\n",
       "      <th>69</th>\n",
       "      <td>h1_mbp_min</td>\n",
       "      <td>5.017018</td>\n",
       "    </tr>\n",
       "    <tr>\n",
       "      <th>68</th>\n",
       "      <td>h1_mbp_max</td>\n",
       "      <td>5.017018</td>\n",
       "    </tr>\n",
       "    <tr>\n",
       "      <th>73</th>\n",
       "      <td>h1_resprate_min</td>\n",
       "      <td>4.958627</td>\n",
       "    </tr>\n",
       "    <tr>\n",
       "      <th>72</th>\n",
       "      <td>h1_resprate_max</td>\n",
       "      <td>4.958627</td>\n",
       "    </tr>\n",
       "    <tr>\n",
       "      <th>75</th>\n",
       "      <td>h1_spo2_min</td>\n",
       "      <td>4.795747</td>\n",
       "    </tr>\n",
       "    <tr>\n",
       "      <th>74</th>\n",
       "      <td>h1_spo2_max</td>\n",
       "      <td>4.795747</td>\n",
       "    </tr>\n",
       "    <tr>\n",
       "      <th>61</th>\n",
       "      <td>h1_diasbp_min</td>\n",
       "      <td>4.246410</td>\n",
       "    </tr>\n",
       "    <tr>\n",
       "      <th>60</th>\n",
       "      <td>h1_diasbp_max</td>\n",
       "      <td>4.246410</td>\n",
       "    </tr>\n",
       "    <tr>\n",
       "      <th>79</th>\n",
       "      <td>h1_sysbp_min</td>\n",
       "      <td>4.240264</td>\n",
       "    </tr>\n",
       "    <tr>\n",
       "      <th>78</th>\n",
       "      <td>h1_sysbp_max</td>\n",
       "      <td>4.240264</td>\n",
       "    </tr>\n",
       "    <tr>\n",
       "      <th>0</th>\n",
       "      <td>age</td>\n",
       "      <td>3.832295</td>\n",
       "    </tr>\n",
       "    <tr>\n",
       "      <th>56</th>\n",
       "      <td>d1_temp_max</td>\n",
       "      <td>3.452753</td>\n",
       "    </tr>\n",
       "    <tr>\n",
       "      <th>57</th>\n",
       "      <td>d1_temp_min</td>\n",
       "      <td>3.452753</td>\n",
       "    </tr>\n",
       "    <tr>\n",
       "      <th>1</th>\n",
       "      <td>bmi</td>\n",
       "      <td>3.449680</td>\n",
       "    </tr>\n",
       "    <tr>\n",
       "      <th>64</th>\n",
       "      <td>h1_heartrate_max</td>\n",
       "      <td>3.130066</td>\n",
       "    </tr>\n",
       "    <tr>\n",
       "      <th>65</th>\n",
       "      <td>h1_heartrate_min</td>\n",
       "      <td>3.130066</td>\n",
       "    </tr>\n",
       "    <tr>\n",
       "      <th>7</th>\n",
       "      <td>weight</td>\n",
       "      <td>2.660633</td>\n",
       "    </tr>\n",
       "    <tr>\n",
       "      <th>44</th>\n",
       "      <td>d1_mbp_noninvasive_max</td>\n",
       "      <td>1.711779</td>\n",
       "    </tr>\n",
       "    <tr>\n",
       "      <th>45</th>\n",
       "      <td>d1_mbp_noninvasive_min</td>\n",
       "      <td>1.711779</td>\n",
       "    </tr>\n",
       "    <tr>\n",
       "      <th>15</th>\n",
       "      <td>gcs_eyes_apache</td>\n",
       "      <td>1.682583</td>\n",
       "    </tr>\n",
       "    <tr>\n",
       "      <th>16</th>\n",
       "      <td>gcs_motor_apache</td>\n",
       "      <td>1.682583</td>\n",
       "    </tr>\n",
       "    <tr>\n",
       "      <th>18</th>\n",
       "      <td>gcs_verbal_apache</td>\n",
       "      <td>1.682583</td>\n",
       "    </tr>\n",
       "    <tr>\n",
       "      <th>4</th>\n",
       "      <td>height</td>\n",
       "      <td>1.595765</td>\n",
       "    </tr>\n",
       "    <tr>\n",
       "      <th>9</th>\n",
       "      <td>apache_2_diagnosis</td>\n",
       "      <td>1.294590</td>\n",
       "    </tr>\n",
       "    <tr>\n",
       "      <th>36</th>\n",
       "      <td>d1_diasbp_noninvasive_max</td>\n",
       "      <td>1.256944</td>\n",
       "    </tr>\n",
       "    <tr>\n",
       "      <th>37</th>\n",
       "      <td>d1_diasbp_noninvasive_min</td>\n",
       "      <td>1.256944</td>\n",
       "    </tr>\n",
       "    <tr>\n",
       "      <th>54</th>\n",
       "      <td>d1_sysbp_noninvasive_max</td>\n",
       "      <td>1.246956</td>\n",
       "    </tr>\n",
       "    <tr>\n",
       "      <th>55</th>\n",
       "      <td>d1_sysbp_noninvasive_min</td>\n",
       "      <td>1.246956</td>\n",
       "    </tr>\n",
       "    <tr>\n",
       "      <th>2</th>\n",
       "      <td>ethnicity</td>\n",
       "      <td>1.219297</td>\n",
       "    </tr>\n",
       "    <tr>\n",
       "      <th>10</th>\n",
       "      <td>apache_3j_diagnosis</td>\n",
       "      <td>0.664582</td>\n",
       "    </tr>\n",
       "    <tr>\n",
       "      <th>27</th>\n",
       "      <td>resprate_apache</td>\n",
       "      <td>0.620789</td>\n",
       "    </tr>\n",
       "    <tr>\n",
       "      <th>17</th>\n",
       "      <td>gcs_unable_apache</td>\n",
       "      <td>0.544727</td>\n",
       "    </tr>\n",
       "    <tr>\n",
       "      <th>47</th>\n",
       "      <td>d1_resprate_min</td>\n",
       "      <td>0.524751</td>\n",
       "    </tr>\n",
       "    <tr>\n",
       "      <th>46</th>\n",
       "      <td>d1_resprate_max</td>\n",
       "      <td>0.524751</td>\n",
       "    </tr>\n",
       "    <tr>\n",
       "      <th>48</th>\n",
       "      <td>d1_spo2_max</td>\n",
       "      <td>0.408737</td>\n",
       "    </tr>\n",
       "    <tr>\n",
       "      <th>49</th>\n",
       "      <td>d1_spo2_min</td>\n",
       "      <td>0.408737</td>\n",
       "    </tr>\n",
       "    <tr>\n",
       "      <th>22</th>\n",
       "      <td>map_apache</td>\n",
       "      <td>0.322687</td>\n",
       "    </tr>\n",
       "    <tr>\n",
       "      <th>42</th>\n",
       "      <td>d1_mbp_max</td>\n",
       "      <td>0.251235</td>\n",
       "    </tr>\n",
       "    <tr>\n",
       "      <th>43</th>\n",
       "      <td>d1_mbp_min</td>\n",
       "      <td>0.251235</td>\n",
       "    </tr>\n",
       "    <tr>\n",
       "      <th>20</th>\n",
       "      <td>heart_rate_apache</td>\n",
       "      <td>0.237406</td>\n",
       "    </tr>\n",
       "    <tr>\n",
       "      <th>34</th>\n",
       "      <td>d1_diasbp_max</td>\n",
       "      <td>0.212820</td>\n",
       "    </tr>\n",
       "    <tr>\n",
       "      <th>35</th>\n",
       "      <td>d1_diasbp_min</td>\n",
       "      <td>0.212820</td>\n",
       "    </tr>\n",
       "    <tr>\n",
       "      <th>52</th>\n",
       "      <td>d1_sysbp_max</td>\n",
       "      <td>0.208210</td>\n",
       "    </tr>\n",
       "    <tr>\n",
       "      <th>53</th>\n",
       "      <td>d1_sysbp_min</td>\n",
       "      <td>0.208210</td>\n",
       "    </tr>\n",
       "    <tr>\n",
       "      <th>38</th>\n",
       "      <td>d1_heartrate_max</td>\n",
       "      <td>0.201295</td>\n",
       "    </tr>\n",
       "    <tr>\n",
       "      <th>39</th>\n",
       "      <td>d1_heartrate_min</td>\n",
       "      <td>0.201295</td>\n",
       "    </tr>\n",
       "    <tr>\n",
       "      <th>6</th>\n",
       "      <td>icu_admit_source</td>\n",
       "      <td>0.184393</td>\n",
       "    </tr>\n",
       "    <tr>\n",
       "      <th>3</th>\n",
       "      <td>gender</td>\n",
       "      <td>0.050708</td>\n",
       "    </tr>\n",
       "  </tbody>\n",
       "</table>\n",
       "</div>"
      ],
      "text/plain": [
       "                Variable Names   % of NAs\n",
       "117           h1_bilirubin_min  92.089553\n",
       "116           h1_bilirubin_max  92.089553\n",
       "114             h1_albumin_max  91.431886\n",
       "115             h1_albumin_min  91.431886\n",
       "134             h1_lactate_max  91.018539\n",
       "135             h1_lactate_min  91.018539\n",
       "159       h1_pao2fio2ratio_min  87.123243\n",
       "158       h1_pao2fio2ratio_max  87.123243\n",
       "154         h1_arterial_ph_max  82.860699\n",
       "155         h1_arterial_ph_min  82.860699\n",
       "153       h1_arterial_pco2_min  82.720100\n",
       "152       h1_arterial_pco2_max  82.720100\n",
       "156        h1_arterial_po2_max  82.550305\n",
       "157        h1_arterial_po2_min  82.550305\n",
       "127                h1_hco3_min  81.743587\n",
       "126                h1_hco3_max  81.743587\n",
       "142                 h1_wbc_max  81.429351\n",
       "143                 h1_wbc_min  81.429351\n",
       "121             h1_calcium_min  81.379411\n",
       "120             h1_calcium_max  81.379411\n",
       "137           h1_platelets_min  81.231897\n",
       "136           h1_platelets_max  81.231897\n",
       "118                 h1_bun_max  80.664121\n",
       "119                 h1_bun_min  80.664121\n",
       "59      h1_diasbp_invasive_min  80.540424\n",
       "58      h1_diasbp_invasive_max  80.540424\n",
       "76       h1_sysbp_invasive_max  80.523522\n",
       "77       h1_sysbp_invasive_min  80.523522\n",
       "122          h1_creatinine_max  80.505851\n",
       "123          h1_creatinine_min  80.505851\n",
       "66         h1_mbp_invasive_max  80.492021\n",
       "67         h1_mbp_invasive_min  80.492021\n",
       "131          h1_hematocrit_min  79.101393\n",
       "130          h1_hematocrit_max  79.101393\n",
       "129          h1_hemaglobin_min  78.973855\n",
       "128          h1_hemaglobin_max  78.973855\n",
       "141              h1_sodium_min  78.198637\n",
       "140              h1_sodium_max  78.198637\n",
       "139           h1_potassium_min  77.461066\n",
       "138           h1_potassium_max  77.461066\n",
       "14                 fio2_apache  76.615165\n",
       "26                   ph_apache  76.615165\n",
       "23                paco2_apache  76.615165\n",
       "24         paco2_for_ph_apache  76.615165\n",
       "25                 pao2_apache  76.615165\n",
       "104             d1_lactate_max  73.375231\n",
       "105             d1_lactate_min  73.375231\n",
       "32      d1_diasbp_invasive_max  73.041020\n",
       "33      d1_diasbp_invasive_min  73.041020\n",
       "50       d1_sysbp_invasive_max  73.017971\n",
       "51       d1_sysbp_invasive_min  73.017971\n",
       "41         d1_mbp_invasive_min  72.887359\n",
       "40         d1_mbp_invasive_max  72.887359\n",
       "150       d1_pao2fio2ratio_max  71.712624\n",
       "151       d1_pao2fio2ratio_min  71.712624\n",
       "147         d1_arterial_ph_min  65.157464\n",
       "146         d1_arterial_ph_max  65.157464\n",
       "144       d1_arterial_pco2_max  64.891631\n",
       "145       d1_arterial_pco2_min  64.891631\n",
       "148        d1_arterial_po2_max  64.545126\n",
       "149        d1_arterial_po2_min  64.545126\n",
       "11            bilirubin_apache  63.431087\n",
       "103                 d1_inr_min  62.396183\n",
       "102                 d1_inr_max  62.396183\n",
       "132                 h1_inr_max  62.396183\n",
       "133                 h1_inr_min  62.396183\n",
       "8               albumin_apache  60.052859\n",
       "86            d1_bilirubin_max  58.955723\n",
       "87            d1_bilirubin_min  58.955723\n",
       "125             h1_glucose_min  57.678803\n",
       "124             h1_glucose_max  57.678803\n",
       "85              d1_albumin_min  54.861437\n",
       "84              d1_albumin_max  54.861437\n",
       "30          urineoutput_apache  48.531389\n",
       "5        hospital_admit_source  25.506120\n",
       "82                 h1_temp_max  22.820901\n",
       "83                 h1_temp_min  22.820901\n",
       "31                  wbc_apache  22.645728\n",
       "21           hematocrit_apache  20.558249\n",
       "12                  bun_apache  19.523345\n",
       "13           creatinine_apache  19.116913\n",
       "28               sodium_apache  18.838019\n",
       "96                 d1_hco3_max  15.402168\n",
       "97                 d1_hco3_min  15.402168\n",
       "106           d1_platelets_max  14.257397\n",
       "107           d1_platelets_min  14.257397\n",
       "113                 d1_wbc_min  13.390751\n",
       "112                 d1_wbc_max  13.390751\n",
       "90              d1_calcium_max  12.824512\n",
       "91              d1_calcium_min  12.824512\n",
       "98           d1_hemaglobin_max  12.471093\n",
       "99           d1_hemaglobin_min  12.471093\n",
       "101          d1_hematocrit_min  11.976306\n",
       "100          d1_hematocrit_max  11.976306\n",
       "19              glucose_apache  11.290979\n",
       "88                  d1_bun_max  10.551872\n",
       "89                  d1_bun_min  10.551872\n",
       "71      h1_mbp_noninvasive_min  10.216124\n",
       "70      h1_mbp_noninvasive_max  10.216124\n",
       "93           d1_creatinine_min  10.197684\n",
       "92           d1_creatinine_max  10.197684\n",
       "111              d1_sodium_min  10.195379\n",
       "110              d1_sodium_max  10.195379\n",
       "108           d1_potassium_max   9.639128\n",
       "109           d1_potassium_min   9.639128\n",
       "63   h1_diasbp_noninvasive_min   8.711787\n",
       "62   h1_diasbp_noninvasive_max   8.711787\n",
       "80    h1_sysbp_noninvasive_max   8.704872\n",
       "81    h1_sysbp_noninvasive_min   8.704872\n",
       "95              d1_glucose_min   6.333121\n",
       "94              d1_glucose_max   6.333121\n",
       "29                 temp_apache   5.079250\n",
       "69                  h1_mbp_min   5.017018\n",
       "68                  h1_mbp_max   5.017018\n",
       "73             h1_resprate_min   4.958627\n",
       "72             h1_resprate_max   4.958627\n",
       "75                 h1_spo2_min   4.795747\n",
       "74                 h1_spo2_max   4.795747\n",
       "61               h1_diasbp_min   4.246410\n",
       "60               h1_diasbp_max   4.246410\n",
       "79                h1_sysbp_min   4.240264\n",
       "78                h1_sysbp_max   4.240264\n",
       "0                          age   3.832295\n",
       "56                 d1_temp_max   3.452753\n",
       "57                 d1_temp_min   3.452753\n",
       "1                          bmi   3.449680\n",
       "64            h1_heartrate_max   3.130066\n",
       "65            h1_heartrate_min   3.130066\n",
       "7                       weight   2.660633\n",
       "44      d1_mbp_noninvasive_max   1.711779\n",
       "45      d1_mbp_noninvasive_min   1.711779\n",
       "15             gcs_eyes_apache   1.682583\n",
       "16            gcs_motor_apache   1.682583\n",
       "18           gcs_verbal_apache   1.682583\n",
       "4                       height   1.595765\n",
       "9           apache_2_diagnosis   1.294590\n",
       "36   d1_diasbp_noninvasive_max   1.256944\n",
       "37   d1_diasbp_noninvasive_min   1.256944\n",
       "54    d1_sysbp_noninvasive_max   1.246956\n",
       "55    d1_sysbp_noninvasive_min   1.246956\n",
       "2                    ethnicity   1.219297\n",
       "10         apache_3j_diagnosis   0.664582\n",
       "27             resprate_apache   0.620789\n",
       "17           gcs_unable_apache   0.544727\n",
       "47             d1_resprate_min   0.524751\n",
       "46             d1_resprate_max   0.524751\n",
       "48                 d1_spo2_max   0.408737\n",
       "49                 d1_spo2_min   0.408737\n",
       "22                  map_apache   0.322687\n",
       "42                  d1_mbp_max   0.251235\n",
       "43                  d1_mbp_min   0.251235\n",
       "20           heart_rate_apache   0.237406\n",
       "34               d1_diasbp_max   0.212820\n",
       "35               d1_diasbp_min   0.212820\n",
       "52                d1_sysbp_max   0.208210\n",
       "53                d1_sysbp_min   0.208210\n",
       "38            d1_heartrate_max   0.201295\n",
       "39            d1_heartrate_min   0.201295\n",
       "6             icu_admit_source   0.184393\n",
       "3                       gender   0.050708"
      ]
     },
     "execution_count": 16,
     "metadata": {},
     "output_type": "execute_result"
    }
   ],
   "source": [
    "na_assess"
   ]
  },
  {
   "cell_type": "code",
   "execution_count": 17,
   "metadata": {
    "executionInfo": {
     "elapsed": 247,
     "status": "ok",
     "timestamp": 1614497729888,
     "user": {
      "displayName": "Zhitao Zheng",
      "photoUrl": "",
      "userId": "00958998387167643560"
     },
     "user_tz": 480
    },
    "id": "9KtbQsvijFoy"
   },
   "outputs": [
    {
     "data": {
      "text/plain": [
       "['ethnicity',\n",
       " 'gender',\n",
       " 'hospital_admit_source',\n",
       " 'icu_admit_source',\n",
       " 'icu_stay_type',\n",
       " 'icu_type']"
      ]
     },
     "execution_count": 17,
     "metadata": {},
     "output_type": "execute_result"
    }
   ],
   "source": [
    "# For non-numeric columns\n",
    "col_object = training_data.select_dtypes('object').columns.tolist()\n",
    "col_object_un = unlabled_data.select_dtypes('object').columns.tolist()\n",
    "col_object"
   ]
  },
  {
   "cell_type": "code",
   "execution_count": 18,
   "metadata": {
    "executionInfo": {
     "elapsed": 605,
     "status": "ok",
     "timestamp": 1614497732785,
     "user": {
      "displayName": "Zhitao Zheng",
      "photoUrl": "",
      "userId": "00958998387167643560"
     },
     "user_tz": 480
    },
    "id": "kNYmV5BujFoy"
   },
   "outputs": [],
   "source": [
    "le = LabelEncoder()\n",
    "for i in col_object:\n",
    "    training_data[i].fillna(\"Not Specified\",inplace = True)\n",
    "    training_data[i] = le.fit_transform(training_data[i].astype(str))\n",
    "    \n",
    "for i in col_object_un:\n",
    "    unlabled_data[i].fillna(\"Not Specified\",inplace = True)\n",
    "    unlabled_data[i] = le.fit_transform(unlabled_data[i].astype(str))"
   ]
  },
  {
   "cell_type": "code",
   "execution_count": 19,
   "metadata": {},
   "outputs": [],
   "source": [
    "# For numeric columns\n",
    "training_data.fillna(-9999,inplace = True)\n",
    "unlabled_data.fillna(-9999,inplace = True)"
   ]
  },
  {
   "cell_type": "markdown",
   "metadata": {
    "id": "xKsu9lrKjFoy"
   },
   "source": [
    "### Evaluate correlations"
   ]
  },
  {
   "cell_type": "code",
   "execution_count": 20,
   "metadata": {
    "id": "x_BXsk_ljFoy"
   },
   "outputs": [
    {
     "data": {
      "text/plain": [
       "encounter_id                   False\n",
       "hospital_id                    False\n",
       "age                            False\n",
       "bmi                            False\n",
       "elective_surgery               False\n",
       "ethnicity                      False\n",
       "gender                         False\n",
       "height                         False\n",
       "hospital_admit_source          False\n",
       "icu_admit_source               False\n",
       "icu_id                         False\n",
       "icu_stay_type                  False\n",
       "icu_type                       False\n",
       "pre_icu_los_days               False\n",
       "readmission_status             False\n",
       "weight                         False\n",
       "albumin_apache                 False\n",
       "apache_2_diagnosis             False\n",
       "apache_3j_diagnosis            False\n",
       "apache_post_operative          False\n",
       "arf_apache                     False\n",
       "bilirubin_apache               False\n",
       "bun_apache                     False\n",
       "creatinine_apache              False\n",
       "fio2_apache                    False\n",
       "gcs_eyes_apache                False\n",
       "gcs_motor_apache               False\n",
       "gcs_unable_apache              False\n",
       "gcs_verbal_apache              False\n",
       "glucose_apache                 False\n",
       "heart_rate_apache              False\n",
       "hematocrit_apache              False\n",
       "intubated_apache               False\n",
       "map_apache                     False\n",
       "paco2_apache                   False\n",
       "paco2_for_ph_apache            False\n",
       "pao2_apache                    False\n",
       "ph_apache                      False\n",
       "resprate_apache                False\n",
       "sodium_apache                  False\n",
       "temp_apache                    False\n",
       "urineoutput_apache             False\n",
       "ventilated_apache              False\n",
       "wbc_apache                     False\n",
       "d1_diasbp_invasive_max         False\n",
       "d1_diasbp_invasive_min         False\n",
       "d1_diasbp_max                  False\n",
       "d1_diasbp_min                  False\n",
       "d1_diasbp_noninvasive_max      False\n",
       "d1_diasbp_noninvasive_min      False\n",
       "d1_heartrate_max               False\n",
       "d1_heartrate_min               False\n",
       "d1_mbp_invasive_max            False\n",
       "d1_mbp_invasive_min            False\n",
       "d1_mbp_max                     False\n",
       "d1_mbp_min                     False\n",
       "d1_mbp_noninvasive_max         False\n",
       "d1_mbp_noninvasive_min         False\n",
       "d1_resprate_max                False\n",
       "d1_resprate_min                False\n",
       "d1_spo2_max                    False\n",
       "d1_spo2_min                    False\n",
       "d1_sysbp_invasive_max          False\n",
       "d1_sysbp_invasive_min          False\n",
       "d1_sysbp_max                   False\n",
       "d1_sysbp_min                   False\n",
       "d1_sysbp_noninvasive_max       False\n",
       "d1_sysbp_noninvasive_min       False\n",
       "d1_temp_max                    False\n",
       "d1_temp_min                    False\n",
       "h1_diasbp_invasive_max         False\n",
       "h1_diasbp_invasive_min         False\n",
       "h1_diasbp_max                  False\n",
       "h1_diasbp_min                  False\n",
       "h1_diasbp_noninvasive_max      False\n",
       "h1_diasbp_noninvasive_min      False\n",
       "h1_heartrate_max               False\n",
       "h1_heartrate_min               False\n",
       "h1_mbp_invasive_max            False\n",
       "h1_mbp_invasive_min            False\n",
       "h1_mbp_max                     False\n",
       "h1_mbp_min                     False\n",
       "h1_mbp_noninvasive_max         False\n",
       "h1_mbp_noninvasive_min         False\n",
       "h1_resprate_max                False\n",
       "h1_resprate_min                False\n",
       "h1_spo2_max                    False\n",
       "h1_spo2_min                    False\n",
       "h1_sysbp_invasive_max          False\n",
       "h1_sysbp_invasive_min          False\n",
       "h1_sysbp_max                   False\n",
       "h1_sysbp_min                   False\n",
       "h1_sysbp_noninvasive_max       False\n",
       "h1_sysbp_noninvasive_min       False\n",
       "h1_temp_max                    False\n",
       "h1_temp_min                    False\n",
       "d1_albumin_max                 False\n",
       "d1_albumin_min                 False\n",
       "d1_bilirubin_max               False\n",
       "d1_bilirubin_min               False\n",
       "d1_bun_max                     False\n",
       "d1_bun_min                     False\n",
       "d1_calcium_max                 False\n",
       "d1_calcium_min                 False\n",
       "d1_creatinine_max              False\n",
       "d1_creatinine_min              False\n",
       "d1_glucose_max                 False\n",
       "d1_glucose_min                 False\n",
       "d1_hco3_max                    False\n",
       "d1_hco3_min                    False\n",
       "d1_hemaglobin_max              False\n",
       "d1_hemaglobin_min              False\n",
       "d1_hematocrit_max              False\n",
       "d1_hematocrit_min              False\n",
       "d1_inr_max                     False\n",
       "d1_inr_min                     False\n",
       "d1_lactate_max                 False\n",
       "d1_lactate_min                 False\n",
       "d1_platelets_max               False\n",
       "d1_platelets_min               False\n",
       "d1_potassium_max               False\n",
       "d1_potassium_min               False\n",
       "d1_sodium_max                  False\n",
       "d1_sodium_min                  False\n",
       "d1_wbc_max                     False\n",
       "d1_wbc_min                     False\n",
       "h1_albumin_max                 False\n",
       "h1_albumin_min                 False\n",
       "h1_bilirubin_max               False\n",
       "h1_bilirubin_min               False\n",
       "h1_bun_max                     False\n",
       "h1_bun_min                     False\n",
       "h1_calcium_max                 False\n",
       "h1_calcium_min                 False\n",
       "h1_creatinine_max              False\n",
       "h1_creatinine_min              False\n",
       "h1_glucose_max                 False\n",
       "h1_glucose_min                 False\n",
       "h1_hco3_max                    False\n",
       "h1_hco3_min                    False\n",
       "h1_hemaglobin_max              False\n",
       "h1_hemaglobin_min              False\n",
       "h1_hematocrit_max              False\n",
       "h1_hematocrit_min              False\n",
       "h1_inr_max                     False\n",
       "h1_inr_min                     False\n",
       "h1_lactate_max                 False\n",
       "h1_lactate_min                 False\n",
       "h1_platelets_max               False\n",
       "h1_platelets_min               False\n",
       "h1_potassium_max               False\n",
       "h1_potassium_min               False\n",
       "h1_sodium_max                  False\n",
       "h1_sodium_min                  False\n",
       "h1_wbc_max                     False\n",
       "h1_wbc_min                     False\n",
       "d1_arterial_pco2_max           False\n",
       "d1_arterial_pco2_min           False\n",
       "d1_arterial_ph_max             False\n",
       "d1_arterial_ph_min             False\n",
       "d1_arterial_po2_max            False\n",
       "d1_arterial_po2_min            False\n",
       "d1_pao2fio2ratio_max           False\n",
       "d1_pao2fio2ratio_min           False\n",
       "h1_arterial_pco2_max           False\n",
       "h1_arterial_pco2_min           False\n",
       "h1_arterial_ph_max             False\n",
       "h1_arterial_ph_min             False\n",
       "h1_arterial_po2_max            False\n",
       "h1_arterial_po2_min            False\n",
       "h1_pao2fio2ratio_max           False\n",
       "h1_pao2fio2ratio_min           False\n",
       "aids                           False\n",
       "cirrhosis                      False\n",
       "hepatic_failure                False\n",
       "immunosuppression              False\n",
       "leukemia                       False\n",
       "lymphoma                       False\n",
       "solid_tumor_with_metastasis    False\n",
       "diabetes_mellitus               True\n",
       "Name: diabetes_mellitus, dtype: bool"
      ]
     },
     "execution_count": 20,
     "metadata": {},
     "output_type": "execute_result"
    }
   ],
   "source": [
    "train_corr = training_data.corr(method=\"pearson\")\n",
    "abs(train_corr[\"diabetes_mellitus\"]) > 0.8\n",
    "# No significant high correlation here"
   ]
  },
  {
   "cell_type": "markdown",
   "metadata": {
    "id": "Kzn_ZrVrjFoz"
   },
   "source": [
    "## Model 1: XGBoost"
   ]
  },
  {
   "cell_type": "code",
   "execution_count": 21,
   "metadata": {},
   "outputs": [],
   "source": [
    "def roc_auc_plot(fpr, tpr, roc_auc):\n",
    "    plt.figure()\n",
    "    plt.plot(fpr, tpr, label='XGBoost (area = %0.2f)' % roc_auc)\n",
    "    plt.plot([0, 1], [0, 1],'r--')\n",
    "    plt.xlim([0.0, 1.0])\n",
    "    plt.ylim([0.0, 1.05])\n",
    "    plt.xlabel('False Positive Rate')\n",
    "    plt.ylabel('True Positive Rate')\n",
    "    plt.title('Receiver operating characteristic')\n",
    "    plt.legend(loc=\"lower right\")\n",
    "    plt.savefig('Log_ROC')\n",
    "    plt.show()"
   ]
  },
  {
   "cell_type": "markdown",
   "metadata": {},
   "source": [
    "## Deal with imbalanced data"
   ]
  },
  {
   "cell_type": "code",
   "execution_count": 22,
   "metadata": {},
   "outputs": [
    {
     "data": {
      "text/plain": [
       "1    102006\n",
       "0    102006\n",
       "Name: diabetes_mellitus, dtype: int64"
      ]
     },
     "execution_count": 22,
     "metadata": {},
     "output_type": "execute_result"
    }
   ],
   "source": [
    "df_majority =training_data[training_data.diabetes_mellitus==0]\n",
    "df_minority = training_data[training_data.diabetes_mellitus==1]\n",
    "\n",
    "# upsample majority class\n",
    "from sklearn.utils import resample\n",
    "\n",
    "df_minority_upsampled = resample(df_minority, \n",
    "                                 replace=True,     # sample with replacement\n",
    "                                 n_samples=102006,    # to match majority class\n",
    "                                 random_state=123) # reproducible results\n",
    " \n",
    "# Combine majority class with upsampled minority class\n",
    "df_upsampled = pd.concat([df_majority, df_minority_upsampled])\n",
    " \n",
    "# Display new class counts\n",
    "df_upsampled.diabetes_mellitus.value_counts()\n",
    "# 1    576\n",
    "# 0    576\n",
    "# Name: balance, dtype: int64"
   ]
  },
  {
   "cell_type": "code",
   "execution_count": 23,
   "metadata": {
    "id": "O36Tj9bhjFo0",
    "outputId": "9f0b792a-be7b-434f-8bf0-cc348c9a08f5"
   },
   "outputs": [],
   "source": [
    "X = df_upsampled.drop('diabetes_mellitus', axis = 1)\n",
    "Y = df_upsampled['diabetes_mellitus']"
   ]
  },
  {
   "cell_type": "code",
   "execution_count": 24,
   "metadata": {},
   "outputs": [],
   "source": [
    "# Splitting test and train data\n",
    "seed = 123\n",
    "test_size = 0.3\n",
    "X_train, X_test, y_train, y_test = train_test_split(X, Y, test_size=test_size, random_state=seed)"
   ]
  },
  {
   "cell_type": "code",
   "execution_count": 25,
   "metadata": {},
   "outputs": [
    {
     "name": "stderr",
     "output_type": "stream",
     "text": [
      "/opt/anaconda3/lib/python3.8/site-packages/xgboost/sklearn.py:888: UserWarning: The use of label encoder in XGBClassifier is deprecated and will be removed in a future release. To remove this warning, do the following: 1) Pass option use_label_encoder=False when constructing XGBClassifier object; and 2) Encode your labels (y) as integers starting with 0, i.e. 0, 1, 2, ..., [num_class - 1].\n",
      "  warnings.warn(label_encoder_deprecation_msg, UserWarning)\n"
     ]
    },
    {
     "name": "stdout",
     "output_type": "stream",
     "text": [
      "[15:08:07] WARNING: /Users/travis/build/dmlc/xgboost/src/learner.cc:1061: Starting in XGBoost 1.3.0, the default evaluation metric used with the objective 'binary:logistic' was changed from 'error' to 'logloss'. Explicitly set eval_metric if you'd like to restore the old behavior.\n"
     ]
    },
    {
     "data": {
      "text/plain": [
       "XGBClassifier(base_score=0.5, booster='gbtree', colsample_bylevel=0.7,\n",
       "              colsample_bynode=1, colsample_bytree=0.7, gamma=0.01, gpu_id=-1,\n",
       "              importance_type='gain', interaction_constraints='',\n",
       "              learning_rate=0.300000012, max_delta_step=0, max_depth=5,\n",
       "              min_child_weight=1, missing=nan, monotone_constraints='()',\n",
       "              n_estimators=100, n_jobs=4, nthread=4, num_parallel_tree=1,\n",
       "              random_state=27, reg_alpha=4, reg_lambda=1, scale_pos_weight=1,\n",
       "              seed=27, subsample=1, tree_method='exact', validate_parameters=1,\n",
       "              verbosity=None)"
      ]
     },
     "execution_count": 25,
     "metadata": {},
     "output_type": "execute_result"
    }
   ],
   "source": [
    "# fit model with training data\n",
    "\n",
    "xgb = XGBClassifier(\n",
    "    max_depth = 5,\n",
    "    subsample = 1,\n",
    "    colsample_bytree = 0.7,\n",
    "    colsample_bylevel = 0.7,\n",
    "    scale_pos_weight = 1,\n",
    "    min_child_weight = 1,\n",
    "    reg_alpha = 4,\n",
    "    n_jobs = 4, \n",
    "    objective = 'binary:logistic',\n",
    "    nthread=4,\n",
    "    gamma = 0.01,\n",
    "    seed = 27,\n",
    ")\n",
    "xgb.fit(X_train, y_train)"
   ]
  },
  {
   "cell_type": "code",
   "execution_count": 26,
   "metadata": {},
   "outputs": [
    {
     "data": {
      "image/png": "[encoded data removed]",
      "text/plain": [
       "<Figure size 432x288 with 1 Axes>"
      ]
     },
     "metadata": {
      "needs_background": "light"
     },
     "output_type": "display_data"
    },
    {
     "name": "stdout",
     "output_type": "stream",
     "text": [
      "Accuracy: 81.7201%\n"
     ]
    }
   ],
   "source": [
    "# Predicting with test data\n",
    "y_pred = xgb.predict(X_test)\n",
    "y_prob = xgb.predict_proba(X_test)[:,1]\n",
    "fpr, tpr, thresholds = roc_curve(y_test, y_prob)\n",
    "predictions = [round(value) for value in y_pred]\n",
    "roc_auc = roc_auc_score(y_test, y_prob)\n",
    "roc_auc_plot(fpr, tpr, roc_auc)\n",
    "\n",
    "# evaluate predictions\n",
    "accuracy = accuracy_score(y_test, predictions)\n",
    "print(\"Accuracy: %.4f%%\" % (accuracy * 100.0))"
   ]
  },
  {
   "cell_type": "code",
   "execution_count": 27,
   "metadata": {},
   "outputs": [
    {
     "data": {
      "text/plain": [
       "array([0.1587201 , 0.30283225, 0.23249829, ..., 0.20323166, 0.03167053,\n",
       "       0.0235519 ], dtype=float32)"
      ]
     },
     "execution_count": 27,
     "metadata": {},
     "output_type": "execute_result"
    }
   ],
   "source": [
    "# Submission using XGBoost\n",
    "y_sub=xgb.predict_proba(unlabled_data)[:,1]\n",
    "y_sub"
   ]
  },
  {
   "cell_type": "code",
   "execution_count": 28,
   "metadata": {},
   "outputs": [
    {
     "name": "stderr",
     "output_type": "stream",
     "text": [
      "<ipython-input-28-aed3b1af4f6f>:2: SettingWithCopyWarning: \n",
      "A value is trying to be set on a copy of a slice from a DataFrame.\n",
      "Try using .loc[row_indexer,col_indexer] = value instead\n",
      "\n",
      "See the caveats in the documentation: https://pandas.pydata.org/pandas-docs/stable/user_guide/indexing.html#returning-a-view-versus-a-copy\n",
      "  submission['diabetes_mellitus'] = y_sub\n"
     ]
    }
   ],
   "source": [
    "submission = unlabled_data[['encounter_id']]\n",
    "submission['diabetes_mellitus'] = y_sub\n",
    "submission = submission.sort_values('encounter_id')\n",
    "submission.to_csv('winwin_submission.csv',index=False)"
   ]
  },
  {
   "cell_type": "markdown",
   "metadata": {
    "id": "FJmZ_x2FjFo1"
   },
   "source": [
    "## Model 2: Random Forest"
   ]
  },
  {
   "cell_type": "markdown",
   "metadata": {
    "id": "HVr5NCPYjFo1"
   },
   "source": [
    "## Deal with imbalanced data"
   ]
  },
  {
   "cell_type": "code",
   "execution_count": 118,
   "metadata": {
    "executionInfo": {
     "elapsed": 362,
     "status": "ok",
     "timestamp": 1614497741239,
     "user": {
      "displayName": "Zhitao Zheng",
      "photoUrl": "",
      "userId": "00958998387167643560"
     },
     "user_tz": 480
    },
    "id": "4OC9ldkyjFo1"
   },
   "outputs": [],
   "source": [
    "df_majority =training_data[training_data.diabetes_mellitus==0]\n",
    "df_minority = training_data[training_data.diabetes_mellitus==1]"
   ]
  },
  {
   "cell_type": "code",
   "execution_count": 119,
   "metadata": {
    "colab": {
     "base_uri": "https://localhost:8080/"
    },
    "executionInfo": {
     "elapsed": 291,
     "status": "ok",
     "timestamp": 1614497748646,
     "user": {
      "displayName": "Zhitao Zheng",
      "photoUrl": "",
      "userId": "00958998387167643560"
     },
     "user_tz": 480
    },
    "id": "utD-GrobjFo1",
    "outputId": "85c705e6-2ee4-42d8-9b49-8d1dcf336aee",
    "scrolled": true
   },
   "outputs": [
    {
     "name": "stdout",
     "output_type": "stream",
     "text": [
      "<class 'pandas.core.frame.DataFrame'>\n",
      "Int64Index: 102006 entries, 2 to 130156\n",
      "Columns: 180 entries, encounter_id to diabetes_mellitus\n",
      "dtypes: float64(157), int64(23)\n",
      "memory usage: 140.9 MB\n"
     ]
    }
   ],
   "source": [
    "df_majority.info()"
   ]
  },
  {
   "cell_type": "code",
   "execution_count": 120,
   "metadata": {
    "colab": {
     "base_uri": "https://localhost:8080/"
    },
    "executionInfo": {
     "elapsed": 578,
     "status": "ok",
     "timestamp": 1614497751090,
     "user": {
      "displayName": "Zhitao Zheng",
      "photoUrl": "",
      "userId": "00958998387167643560"
     },
     "user_tz": 480
    },
    "id": "x51TMzuQjFo1",
    "outputId": "13156d40-9101-449b-d377-6d17dc539d82"
   },
   "outputs": [
    {
     "data": {
      "text/plain": [
       "1    102006\n",
       "0    102006\n",
       "Name: diabetes_mellitus, dtype: int64"
      ]
     },
     "execution_count": 120,
     "metadata": {},
     "output_type": "execute_result"
    }
   ],
   "source": [
    "# upsample majority class\n",
    "from sklearn.utils import resample\n",
    "\n",
    "df_minority_upsampled = resample(df_minority, \n",
    "                                 replace=True,     # sample with replacement\n",
    "                                 n_samples=102006,    # to match majority class\n",
    "                                 random_state=123) # reproducible results\n",
    " \n",
    "# Combine majority class with upsampled minority class\n",
    "df_upsampled = pd.concat([df_majority, df_minority_upsampled])\n",
    " \n",
    "# Display new class counts\n",
    "df_upsampled.diabetes_mellitus.value_counts()\n",
    "# 1    576\n",
    "# 0    576\n",
    "# Name: balance, dtype: int64"
   ]
  },
  {
   "cell_type": "code",
   "execution_count": 32,
   "metadata": {
    "colab": {
     "base_uri": "https://localhost:8080/"
    },
    "executionInfo": {
     "elapsed": 461905,
     "status": "ok",
     "timestamp": 1614498246704,
     "user": {
      "displayName": "Zhitao Zheng",
      "photoUrl": "",
      "userId": "00958998387167643560"
     },
     "user_tz": 480
    },
    "id": "fkeqqtFDjFo2",
    "outputId": "b076180e-2d02-4860-f389-a51aee009386"
   },
   "outputs": [
    {
     "name": "stdout",
     "output_type": "stream",
     "text": [
      "Accuracy: 0.933550094765048\n"
     ]
    }
   ],
   "source": [
    "X=df_upsampled.drop('diabetes_mellitus', axis = 1)\n",
    "y=df_upsampled['diabetes_mellitus']\n",
    "X_train, X_test, y_train, y_test = train_test_split(X, y, test_size=0.3)\n",
    "\n",
    "clf=RandomForestClassifier(n_estimators=400, random_state = 42)\n",
    "clf.fit(X_train,y_train)\n",
    "y_pred=clf.predict(X_test)\n",
    "\n",
    "print(\"Accuracy:\",metrics.accuracy_score(y_test, y_pred))"
   ]
  },
  {
   "cell_type": "code",
   "execution_count": 35,
   "metadata": {
    "executionInfo": {
     "elapsed": 455886,
     "status": "ok",
     "timestamp": 1614498246705,
     "user": {
      "displayName": "Zhitao Zheng",
      "photoUrl": "",
      "userId": "00958998387167643560"
     },
     "user_tz": 480
    },
    "id": "8aIc-68BjFo2"
   },
   "outputs": [],
   "source": [
    "CM=confusion_matrix(y_test, y_pred)"
   ]
  },
  {
   "cell_type": "code",
   "execution_count": 36,
   "metadata": {
    "colab": {
     "base_uri": "https://localhost:8080/"
    },
    "executionInfo": {
     "elapsed": 454773,
     "status": "ok",
     "timestamp": 1614498246706,
     "user": {
      "displayName": "Zhitao Zheng",
      "photoUrl": "",
      "userId": "00958998387167643560"
     },
     "user_tz": 480
    },
    "id": "RfY8cF8UjFo2",
    "outputId": "4f6ffde8-ea4b-40a4-e9d4-ef27e11378b7"
   },
   "outputs": [
    {
     "data": {
      "text/plain": [
       "0.9335988217661059"
      ]
     },
     "execution_count": 36,
     "metadata": {},
     "output_type": "execute_result"
    }
   ],
   "source": [
    "false_positive_rate, true_positive_rate, thresholds = roc_curve(y_test, y_pred)\n",
    "roc_auc = auc(false_positive_rate, true_positive_rate)\n",
    "roc_auc"
   ]
  },
  {
   "cell_type": "code",
   "execution_count": 37,
   "metadata": {
    "id": "XJGgxvTbjFo2",
    "outputId": "9b9c7fea-7214-4816-8250-63e997ce9de1"
   },
   "outputs": [
    {
     "data": {
      "image/png": "[encoded data removed]",
      "text/plain": [
       "<Figure size 1152x504 with 2 Axes>"
      ]
     },
     "metadata": {
      "needs_background": "light"
     },
     "output_type": "display_data"
    }
   ],
   "source": [
    "plt.figure(figsize=(16,7))\n",
    "sns.set(font_scale=1.4)\n",
    "sns.heatmap(CM,annot=True,cmap=plt.cm.Greens,annot_kws={'size':10},linewidths=0.2)\n",
    "class_names = [0,1]\n",
    "tick_marks = np.arange(len(class_names))\n",
    "plt.xlabel('Predicted label')\n",
    "plt.ylabel('True label')\n",
    "plt.title('Confusion Matrix for Random Forest Model')\n",
    "plt.show()"
   ]
  },
  {
   "cell_type": "code",
   "execution_count": 38,
   "metadata": {
    "id": "sFTCtH6yjFo2",
    "outputId": "7a14cb53-63b3-4ece-8de0-aca6cd4c4e0f"
   },
   "outputs": [
    {
     "name": "stdout",
     "output_type": "stream",
     "text": [
      "              precision    recall  f1-score   support\n",
      "\n",
      "           0       0.96      0.91      0.93     30655\n",
      "           1       0.91      0.96      0.94     30549\n",
      "\n",
      "    accuracy                           0.93     61204\n",
      "   macro avg       0.93      0.93      0.93     61204\n",
      "weighted avg       0.93      0.93      0.93     61204\n",
      "\n"
     ]
    }
   ],
   "source": [
    "print(classification_report(y_test, y_pred))"
   ]
  },
  {
   "cell_type": "markdown",
   "metadata": {
    "id": "nBlnJETzjFo3"
   },
   "source": [
    "## Hyper parameter tuning"
   ]
  },
  {
   "cell_type": "code",
   "execution_count": 29,
   "metadata": {
    "colab": {
     "base_uri": "https://localhost:8080/"
    },
    "executionInfo": {
     "elapsed": 395911,
     "status": "ok",
     "timestamp": 1614498246867,
     "user": {
      "displayName": "Zhitao Zheng",
      "photoUrl": "",
      "userId": "00958998387167643560"
     },
     "user_tz": 480
    },
    "id": "Sdak_O-TjFo3",
    "outputId": "0558b56d-fa82-4c19-acea-d7b379c88698"
   },
   "outputs": [
    {
     "name": "stdout",
     "output_type": "stream",
     "text": [
      "{'bootstrap': [True, False],\n",
      " 'max_depth': [10, 20, 30, 40, 50, 60, 70, 80, 90, 100, 110],\n",
      " 'max_features': ['auto', 'sqrt'],\n",
      " 'min_samples_leaf': array([0.1, 0.2, 0.3, 0.4, 0.5]),\n",
      " 'min_samples_split': array([0.1, 0.2, 0.3, 0.4, 0.5, 0.6, 0.7, 0.8, 0.9, 1. ]),\n",
      " 'n_estimators': [200, 288, 377, 466, 555, 644, 733, 822, 911, 1000]}\n"
     ]
    }
   ],
   "source": [
    "# Number of trees in random forest\n",
    "n_estimators = [int(x) for x in np.linspace(start = 200, stop = 1000, num = 10)]\n",
    "# Number of features to consider at every split\n",
    "max_features = ['auto', 'sqrt']\n",
    "# Maximum number of levels in tree\n",
    "max_depth = [int(x) for x in np.linspace(10, 110, num = 11)]\n",
    "\n",
    "# Minimum number of samples required to split a node\n",
    "min_samples_split = np.linspace(0.1, 1.0, 10, endpoint=True)\n",
    "# Minimum number of samples required at each leaf node\n",
    "min_samples_leaf = np.linspace(0.1, 0.5, 5, endpoint=True)\n",
    "# Method of selecting samples for training each tree\n",
    "bootstrap = [True, False]\n",
    "# Create the random grid\n",
    "random_grid = {'n_estimators': n_estimators,\n",
    "               'max_features': max_features,\n",
    "               'max_depth': max_depth,\n",
    "               'min_samples_split': min_samples_split,\n",
    "               'min_samples_leaf': min_samples_leaf,\n",
    "               'bootstrap': bootstrap}\n",
    "from pprint import pprint\n",
    "pprint(random_grid)"
   ]
  },
  {
   "cell_type": "code",
   "execution_count": 35,
   "metadata": {
    "colab": {
     "base_uri": "https://localhost:8080/"
    },
    "executionInfo": {
     "elapsed": 6135091,
     "status": "ok",
     "timestamp": 1614505405421,
     "user": {
      "displayName": "Zhitao Zheng",
      "photoUrl": "",
      "userId": "00958998387167643560"
     },
     "user_tz": 480
    },
    "id": "3y6Sla99jFo4",
    "outputId": "cb71105c-c13f-4a28-e5f8-040198336a3c",
    "scrolled": true
   },
   "outputs": [
    {
     "name": "stdout",
     "output_type": "stream",
     "text": [
      "Fitting 3 folds for each of 100 candidates, totalling 300 fits\n"
     ]
    },
    {
     "name": "stderr",
     "output_type": "stream",
     "text": [
      "[Parallel(n_jobs=-1)]: Using backend LokyBackend with 2 concurrent workers.\n",
      "[Parallel(n_jobs=-1)]: Done  37 tasks      | elapsed:  9.3min\n",
      "[Parallel(n_jobs=-1)]: Done 158 tasks      | elapsed: 53.6min\n",
      "[Parallel(n_jobs=-1)]: Done 300 out of 300 | elapsed: 99.2min finished\n"
     ]
    },
    {
     "data": {
      "text/plain": [
       "RandomizedSearchCV(cv=3, error_score=nan,\n",
       "                   estimator=RandomForestClassifier(bootstrap=True,\n",
       "                                                    ccp_alpha=0.0,\n",
       "                                                    class_weight=None,\n",
       "                                                    criterion='gini',\n",
       "                                                    max_depth=None,\n",
       "                                                    max_features='auto',\n",
       "                                                    max_leaf_nodes=None,\n",
       "                                                    max_samples=None,\n",
       "                                                    min_impurity_decrease=0.0,\n",
       "                                                    min_impurity_split=None,\n",
       "                                                    min_samples_leaf=1,\n",
       "                                                    min_samples_split=2,\n",
       "                                                    min_weight_fraction_leaf=0.0,\n",
       "                                                    n_estimators=100,\n",
       "                                                    n_jobs...\n",
       "                                        'max_depth': [10, 20, 30, 40, 50, 60,\n",
       "                                                      70, 80, 90, 100, 110],\n",
       "                                        'max_features': ['auto', 'sqrt'],\n",
       "                                        'min_samples_leaf': array([0.1, 0.2, 0.3, 0.4, 0.5]),\n",
       "                                        'min_samples_split': array([0.1, 0.2, 0.3, 0.4, 0.5, 0.6, 0.7, 0.8, 0.9, 1. ]),\n",
       "                                        'n_estimators': [200, 288, 377, 466,\n",
       "                                                         555, 644, 733, 822,\n",
       "                                                         911, 1000]},\n",
       "                   pre_dispatch='2*n_jobs', random_state=42, refit=True,\n",
       "                   return_train_score=False, scoring=None, verbose=2)"
      ]
     },
     "execution_count": 35,
     "metadata": {
      "tags": []
     },
     "output_type": "execute_result"
    }
   ],
   "source": [
    "# Use the random grid to search for best hyperparameters\n",
    "# First create the base model to tune\n",
    "rf = RandomForestClassifier()\n",
    "# Random search of parameters, using 3 fold cross validation, \n",
    "# search across 100 different combinations, and use all available cores\n",
    "rf_random = RandomizedSearchCV(estimator = rf, param_distributions = random_grid, n_iter = 100, cv = 3, verbose=2, random_state=42, n_jobs = -1)\n",
    "# Fit the random search model\n",
    "rf_random.fit(X_train, y_train)"
   ]
  },
  {
   "cell_type": "code",
   "execution_count": 36,
   "metadata": {
    "colab": {
     "base_uri": "https://localhost:8080/"
    },
    "executionInfo": {
     "elapsed": 6132546,
     "status": "ok",
     "timestamp": 1614505405422,
     "user": {
      "displayName": "Zhitao Zheng",
      "photoUrl": "",
      "userId": "00958998387167643560"
     },
     "user_tz": 480
    },
    "id": "eOUCj2PNjFo4",
    "outputId": "1cadb1e8-a488-4009-946c-d563f96d4eb7"
   },
   "outputs": [
    {
     "data": {
      "text/plain": [
       "{'bootstrap': False,\n",
       " 'max_depth': 10,\n",
       " 'max_features': 'auto',\n",
       " 'min_samples_leaf': 0.1,\n",
       " 'min_samples_split': 0.2,\n",
       " 'n_estimators': 733}"
      ]
     },
     "execution_count": 36,
     "metadata": {
      "tags": []
     },
     "output_type": "execute_result"
    }
   ],
   "source": [
    "rf_random.best_params_"
   ]
  },
  {
   "cell_type": "code",
   "execution_count": 63,
   "metadata": {
    "executionInfo": {
     "elapsed": 269,
     "status": "ok",
     "timestamp": 1614499134896,
     "user": {
      "displayName": "Zhitao Zheng",
      "photoUrl": "",
      "userId": "00958998387167643560"
     },
     "user_tz": 480
    },
    "id": "2elltjgZjFo4"
   },
   "outputs": [],
   "source": [
    "clf=RandomForestClassifier(n_estimators=733,min_samples_split=0.2,min_samples_leaf=0.1,max_features='auto',max_depth=10,bootstrap=False)"
   ]
  },
  {
   "cell_type": "code",
   "execution_count": 64,
   "metadata": {
    "executionInfo": {
     "elapsed": 98387,
     "status": "ok",
     "timestamp": 1614499235511,
     "user": {
      "displayName": "Zhitao Zheng",
      "photoUrl": "",
      "userId": "00958998387167643560"
     },
     "user_tz": 480
    },
    "id": "_gbDnrdljFo4"
   },
   "outputs": [
    {
     "data": {
      "text/plain": [
       "RandomForestClassifier(bootstrap=False, max_depth=10, min_samples_leaf=0.1,\n",
       "                       min_samples_split=0.2, n_estimators=733)"
      ]
     },
     "execution_count": 64,
     "metadata": {},
     "output_type": "execute_result"
    }
   ],
   "source": [
    "clf.fit(X_train,y_train)\n",
    "\n",
    "#y_pred=clf.predict(X_test)"
   ]
  },
  {
   "cell_type": "code",
   "execution_count": 34,
   "metadata": {
    "colab": {
     "base_uri": "https://localhost:8080/"
    },
    "executionInfo": {
     "elapsed": 79109,
     "status": "ok",
     "timestamp": 1614499235512,
     "user": {
      "displayName": "Zhitao Zheng",
      "photoUrl": "",
      "userId": "00958998387167643560"
     },
     "user_tz": 480
    },
    "id": "lmPZTY1VjFo4",
    "outputId": "ce04ff70-1d30-43fc-cc84-676176d2d89d"
   },
   "outputs": [
    {
     "name": "stdout",
     "output_type": "stream",
     "text": [
      "Accuracy: 0.72766485850598\n"
     ]
    }
   ],
   "source": [
    "print(\"Accuracy:\",metrics.accuracy_score(y_test, y_pred))"
   ]
  },
  {
   "cell_type": "code",
   "execution_count": 65,
   "metadata": {
    "id": "ziRruYCrplQN"
   },
   "outputs": [
    {
     "data": {
      "text/plain": [
       "array([0.47778519, 0.37475451, 0.36386781, ..., 0.43320844, 0.30897436,\n",
       "       0.31017527])"
      ]
     },
     "execution_count": 65,
     "metadata": {},
     "output_type": "execute_result"
    }
   ],
   "source": [
    "# Submission using Random Forest\n",
    "y_sub=clf.predict_proba(unlabled_data)[:,1]\n",
    "y_sub"
   ]
  },
  {
   "cell_type": "code",
   "execution_count": 66,
   "metadata": {
    "scrolled": true
   },
   "outputs": [
    {
     "name": "stderr",
     "output_type": "stream",
     "text": [
      "<ipython-input-66-aed3b1af4f6f>:2: SettingWithCopyWarning: \n",
      "A value is trying to be set on a copy of a slice from a DataFrame.\n",
      "Try using .loc[row_indexer,col_indexer] = value instead\n",
      "\n",
      "See the caveats in the documentation: https://pandas.pydata.org/pandas-docs/stable/user_guide/indexing.html#returning-a-view-versus-a-copy\n",
      "  submission['diabetes_mellitus'] = y_sub\n"
     ]
    }
   ],
   "source": [
    "submission = unlabled_data[['encounter_id']]\n",
    "submission['diabetes_mellitus'] = y_sub\n",
    "submission = submission.sort_values('encounter_id')\n",
    "submission.to_csv('winwin_submission.csv',index=False)"
   ]
  }
 ],
 "metadata": {
  "colab": {
   "name": "Datathon.ipynb",
   "provenance": [],
   "toc_visible": true
  },
  "kernelspec": {
   "display_name": "Python 3",
   "language": "python",
   "name": "python3"
  },
  "language_info": {
   "codemirror_mode": {
    "name": "ipython",
    "version": 3
   },
   "file_extension": ".py",
   "mimetype": "text/x-python",
   "name": "python",
   "nbconvert_exporter": "python",
   "pygments_lexer": "ipython3",
   "version": "3.8.3"
  }
 },
 "nbformat": 4,
 "nbformat_minor": 1
}
